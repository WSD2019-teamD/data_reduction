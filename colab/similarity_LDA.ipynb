{
  "nbformat": 4,
  "nbformat_minor": 0,
  "metadata": {
    "colab": {
      "name": "similarity_LDA.ipynb",
      "provenance": [],
      "collapsed_sections": [
        "9s7vl_JOxF-M",
        "n0mTT8XqxA8K"
      ],
      "toc_visible": true,
      "authorship_tag": "ABX9TyM6vFHYrPBt6dSdLkAljrOz",
      "include_colab_link": true
    },
    "kernelspec": {
      "name": "python3",
      "display_name": "Python 3"
    }
  },
  "cells": [
    {
      "cell_type": "markdown",
      "metadata": {
        "id": "view-in-github",
        "colab_type": "text"
      },
      "source": [
        "<a href=\"https://colab.research.google.com/github/WSD2019-teamD/data_reduction/blob/master/colab/similarity_LDA.ipynb\" target=\"_parent\"><img src=\"https://colab.research.google.com/assets/colab-badge.svg\" alt=\"Open In Colab\"/></a>"
      ]
    },
    {
      "cell_type": "markdown",
      "metadata": {
        "id": "rWcDw5B9G7Yu",
        "colab_type": "text"
      },
      "source": [
        "類似度に関するjsonを作るところまで\n",
        "\n",
        " TODO: 一ヶ月分でも類似度のソートが終わらない"
      ]
    },
    {
      "cell_type": "code",
      "metadata": {
        "id": "JjfPcVXpujtu",
        "colab_type": "code",
        "colab": {}
      },
      "source": [
        "from urllib import request \n",
        "import logging\n",
        "from pathlib import Path\n",
        "import numpy as np\n",
        "import re\n",
        "# import MeCab\n",
        "import random\n",
        "from gensim import corpora, models\n",
        "import pandas as pd\n",
        "from tqdm import tqdm\n",
        "\n",
        "import pickle\n",
        "import gensim"
      ],
      "execution_count": 0,
      "outputs": []
    },
    {
      "cell_type": "markdown",
      "metadata": {
        "id": "bfz-cN-reVkB",
        "colab_type": "text"
      },
      "source": [
        "# 準備\n",
        "データをCSVから読み込む"
      ]
    },
    {
      "cell_type": "markdown",
      "metadata": {
        "id": "VvfCVUAKdT8w",
        "colab_type": "text"
      },
      "source": [
        "##colabの設定\n",
        "\n"
      ]
    },
    {
      "cell_type": "markdown",
      "metadata": {
        "id": "9s7vl_JOxF-M",
        "colab_type": "text"
      },
      "source": [
        "### gensimをupdateしたらrestartが必要"
      ]
    },
    {
      "cell_type": "code",
      "metadata": {
        "id": "C_heTsBAXjnL",
        "colab_type": "code",
        "colab": {}
      },
      "source": [
        "# from google.colab import auth\n",
        "# auth.authenticate_user()"
      ],
      "execution_count": 0,
      "outputs": []
    },
    {
      "cell_type": "code",
      "metadata": {
        "id": "E4oz05v1TEXg",
        "colab_type": "code",
        "outputId": "7cc4fcbc-3a09-45c0-fb46-1e4e2a88dfb2",
        "colab": {
          "base_uri": "https://localhost:8080/",
          "height": 553
        }
      },
      "source": [
        "!pip install gensim  --upgrade"
      ],
      "execution_count": 10,
      "outputs": [
        {
          "output_type": "stream",
          "text": [
            "Collecting gensim\n",
            "\u001b[?25l  Downloading https://files.pythonhosted.org/packages/d1/dd/112bd4258cee11e0baaaba064060eb156475a42362e59e3ff28e7ca2d29d/gensim-3.8.1-cp36-cp36m-manylinux1_x86_64.whl (24.2MB)\n",
            "\u001b[K     |████████████████████████████████| 24.2MB 40.1MB/s \n",
            "\u001b[?25hRequirement already satisfied, skipping upgrade: numpy>=1.11.3 in /usr/local/lib/python3.6/dist-packages (from gensim) (1.17.5)\n",
            "Requirement already satisfied, skipping upgrade: six>=1.5.0 in /usr/local/lib/python3.6/dist-packages (from gensim) (1.12.0)\n",
            "Requirement already satisfied, skipping upgrade: scipy>=0.18.1 in /usr/local/lib/python3.6/dist-packages (from gensim) (1.4.1)\n",
            "Requirement already satisfied, skipping upgrade: smart-open>=1.8.1 in /usr/local/lib/python3.6/dist-packages (from gensim) (1.9.0)\n",
            "Requirement already satisfied, skipping upgrade: boto>=2.32 in /usr/local/lib/python3.6/dist-packages (from smart-open>=1.8.1->gensim) (2.49.0)\n",
            "Requirement already satisfied, skipping upgrade: boto3 in /usr/local/lib/python3.6/dist-packages (from smart-open>=1.8.1->gensim) (1.10.47)\n",
            "Requirement already satisfied, skipping upgrade: requests in /usr/local/lib/python3.6/dist-packages (from smart-open>=1.8.1->gensim) (2.21.0)\n",
            "Requirement already satisfied, skipping upgrade: s3transfer<0.3.0,>=0.2.0 in /usr/local/lib/python3.6/dist-packages (from boto3->smart-open>=1.8.1->gensim) (0.2.1)\n",
            "Requirement already satisfied, skipping upgrade: jmespath<1.0.0,>=0.7.1 in /usr/local/lib/python3.6/dist-packages (from boto3->smart-open>=1.8.1->gensim) (0.9.4)\n",
            "Requirement already satisfied, skipping upgrade: botocore<1.14.0,>=1.13.47 in /usr/local/lib/python3.6/dist-packages (from boto3->smart-open>=1.8.1->gensim) (1.13.47)\n",
            "Requirement already satisfied, skipping upgrade: certifi>=2017.4.17 in /usr/local/lib/python3.6/dist-packages (from requests->smart-open>=1.8.1->gensim) (2019.11.28)\n",
            "Requirement already satisfied, skipping upgrade: idna<2.9,>=2.5 in /usr/local/lib/python3.6/dist-packages (from requests->smart-open>=1.8.1->gensim) (2.8)\n",
            "Requirement already satisfied, skipping upgrade: chardet<3.1.0,>=3.0.2 in /usr/local/lib/python3.6/dist-packages (from requests->smart-open>=1.8.1->gensim) (3.0.4)\n",
            "Requirement already satisfied, skipping upgrade: urllib3<1.25,>=1.21.1 in /usr/local/lib/python3.6/dist-packages (from requests->smart-open>=1.8.1->gensim) (1.24.3)\n",
            "Requirement already satisfied, skipping upgrade: docutils<0.16,>=0.10 in /usr/local/lib/python3.6/dist-packages (from botocore<1.14.0,>=1.13.47->boto3->smart-open>=1.8.1->gensim) (0.15.2)\n",
            "Requirement already satisfied, skipping upgrade: python-dateutil<3.0.0,>=2.1; python_version >= \"2.7\" in /usr/local/lib/python3.6/dist-packages (from botocore<1.14.0,>=1.13.47->boto3->smart-open>=1.8.1->gensim) (2.6.1)\n",
            "Installing collected packages: gensim\n",
            "  Found existing installation: gensim 3.6.0\n",
            "    Uninstalling gensim-3.6.0:\n",
            "      Successfully uninstalled gensim-3.6.0\n",
            "Successfully installed gensim-3.8.1\n"
          ],
          "name": "stdout"
        },
        {
          "output_type": "display_data",
          "data": {
            "application/vnd.colab-display-data+json": {
              "pip_warning": {
                "packages": [
                  "gensim"
                ]
              }
            }
          },
          "metadata": {
            "tags": []
          }
        }
      ]
    },
    {
      "cell_type": "code",
      "metadata": {
        "id": "5J12kSOCT2DC",
        "colab_type": "code",
        "outputId": "0c37f71b-7df4-4904-8026-ecd1ecd043c0",
        "colab": {
          "base_uri": "https://localhost:8080/",
          "height": 34
        }
      },
      "source": [
        "pip list | grep gensim"
      ],
      "execution_count": 1,
      "outputs": [
        {
          "output_type": "stream",
          "text": [
            "gensim                   3.8.1      \n"
          ],
          "name": "stdout"
        }
      ]
    },
    {
      "cell_type": "markdown",
      "metadata": {
        "id": "n0mTT8XqxA8K",
        "colab_type": "text"
      },
      "source": [
        "### google dirveをマウント"
      ]
    },
    {
      "cell_type": "code",
      "metadata": {
        "id": "2AW4rPewZF-J",
        "colab_type": "code",
        "outputId": "7054d247-dafe-4695-d4d4-dce2d5f396f8",
        "colab": {
          "base_uri": "https://localhost:8080/",
          "height": 125
        }
      },
      "source": [
        "from google.colab import drive\n",
        "drive.mount('/content/drive')"
      ],
      "execution_count": 3,
      "outputs": [
        {
          "output_type": "stream",
          "text": [
            "Go to this URL in a browser: https://accounts.google.com/o/oauth2/auth?client_id=947318989803-6bn6qk8qdgf4n4g3pfee6491hc0brc4i.apps.googleusercontent.com&redirect_uri=urn%3aietf%3awg%3aoauth%3a2.0%3aoob&response_type=code&scope=email%20https%3a%2f%2fwww.googleapis.com%2fauth%2fdocs.test%20https%3a%2f%2fwww.googleapis.com%2fauth%2fdrive%20https%3a%2f%2fwww.googleapis.com%2fauth%2fdrive.photos.readonly%20https%3a%2f%2fwww.googleapis.com%2fauth%2fpeopleapi.readonly\n",
            "\n",
            "Enter your authorization code:\n",
            "··········\n",
            "Mounted at /content/drive\n"
          ],
          "name": "stdout"
        }
      ]
    },
    {
      "cell_type": "code",
      "metadata": {
        "id": "qGPLMY1LdCWP",
        "colab_type": "code",
        "outputId": "a1cf31ef-b5d8-4de9-8529-8e061749c949",
        "colab": {
          "base_uri": "https://localhost:8080/",
          "height": 34
        }
      },
      "source": [
        "import os\n",
        "os.chdir('/content/drive/My Drive/Colab_Notebooks/')\n",
        "print(os.getcwd())"
      ],
      "execution_count": 3,
      "outputs": [
        {
          "output_type": "stream",
          "text": [
            "/content/drive/My Drive/Colab_Notebooks\n"
          ],
          "name": "stdout"
        }
      ]
    },
    {
      "cell_type": "code",
      "metadata": {
        "id": "khfYQDdZZcAN",
        "colab_type": "code",
        "colab": {}
      },
      "source": [
        "from urllib import request \n",
        "import logging\n",
        "from pathlib import Path\n",
        "import numpy as np\n",
        "import re\n",
        "# import MeCab\n",
        "import random\n",
        "from gensim import corpora, models\n",
        "import pandas as pd\n",
        "from tqdm import tqdm\n",
        "\n",
        "import pickle\n",
        "import gensim"
      ],
      "execution_count": 0,
      "outputs": []
    },
    {
      "cell_type": "markdown",
      "metadata": {
        "id": "EzfZkGvhxJ3-",
        "colab_type": "text"
      },
      "source": [
        "##コーパス、モデルをインポート"
      ]
    },
    {
      "cell_type": "code",
      "metadata": {
        "id": "izRF99afvQnq",
        "colab_type": "code",
        "colab": {}
      },
      "source": [
        "from smart_open import open\n",
        "from gensim import models, corpora, similarities\n",
        "\n",
        "# corpus = corpora.MmCorpus(\"data/lda/cop.mm\")\n",
        "# lda = models.ldamodel.LdaModel.load(\"data/lda/lda.model\")\n",
        "# # d = corpora.Dictionary.load_from_text(\"data/lda/dict.txt\")\n",
        "# # doc_index = similarities.docsim.MatrixSimilarity.load(\"datalda//sim\")"
      ],
      "execution_count": 0,
      "outputs": []
    },
    {
      "cell_type": "markdown",
      "metadata": {
        "id": "NsFpSGmpyKED",
        "colab_type": "text"
      },
      "source": [
        "##dfの準備"
      ]
    },
    {
      "cell_type": "code",
      "metadata": {
        "id": "grJQiXfRyluY",
        "colab_type": "code",
        "colab": {
          "base_uri": "https://localhost:8080/",
          "height": 72
        },
        "outputId": "b4e2cd69-b5a1-43c3-9098-045be1bb9d7f"
      },
      "source": [
        "dir_path = os.curdir\n",
        "print(dir_path)\n",
        "\n",
        "files = [path for path in os.listdir(dir_path + '/data/article')]\n",
        "print(files)"
      ],
      "execution_count": 141,
      "outputs": [
        {
          "output_type": "stream",
          "text": [
            ".\n",
            "['2019-01-31_00:00:00-content.csv', '2018-12-31_00:00:00-content.csv', '2018-10-31_00:00:00-content.csv', '2018-09-30_00:00:00-content.csv', '2018-08-31_00:00:00-content.csv', '2018-07-31_00:00:00-content.csv', '2018-06-30_00:00:00-content.csv', '2018-05-31_00:00:00-content.csv', '2018-04-30_00:00:00-content.csv', '2018-03-31_00:00:00-content.csv', '2018-02-28_00:00:00-content.csv', 'model.tfidf', 'wordcloud.png']\n"
          ],
          "name": "stdout"
        }
      ]
    },
    {
      "cell_type": "code",
      "metadata": {
        "id": "BWuRiiZ2yUwz",
        "colab_type": "code",
        "colab": {}
      },
      "source": [
        "df = pd.DataFrame()\n",
        "for file in files[:1]:\n",
        "    df_buf =  pd.read_csv('./data/article/' + file)\n",
        "    df = pd.concat([df, df_buf], axis = 0,  ignore_index=True)"
      ],
      "execution_count": 0,
      "outputs": []
    },
    {
      "cell_type": "code",
      "metadata": {
        "id": "ym49KbS50No_",
        "colab_type": "code",
        "colab": {
          "base_uri": "https://localhost:8080/",
          "height": 181
        },
        "outputId": "f24cbf98-3442-4ab8-f784-086e0f755051"
      },
      "source": [
        "df.head(1)"
      ],
      "execution_count": 143,
      "outputs": [
        {
          "output_type": "execute_result",
          "data": {
            "text/html": [
              "<div>\n",
              "<style scoped>\n",
              "    .dataframe tbody tr th:only-of-type {\n",
              "        vertical-align: middle;\n",
              "    }\n",
              "\n",
              "    .dataframe tbody tr th {\n",
              "        vertical-align: top;\n",
              "    }\n",
              "\n",
              "    .dataframe thead th {\n",
              "        text-align: right;\n",
              "    }\n",
              "</style>\n",
              "<table border=\"1\" class=\"dataframe\">\n",
              "  <thead>\n",
              "    <tr style=\"text-align: right;\">\n",
              "      <th></th>\n",
              "      <th>Unnamed: 0</th>\n",
              "      <th>id</th>\n",
              "      <th>article_id</th>\n",
              "      <th>title</th>\n",
              "      <th>created_at</th>\n",
              "      <th>likes_count</th>\n",
              "      <th>tags_str</th>\n",
              "      <th>url</th>\n",
              "      <th>sharing</th>\n",
              "    </tr>\n",
              "  </thead>\n",
              "  <tbody>\n",
              "    <tr>\n",
              "      <th>0</th>\n",
              "      <td>0</td>\n",
              "      <td>30</td>\n",
              "      <td>b9c5eb649ada9224e928</td>\n",
              "      <td>CloudFunctionsからCloudStorageへ画像をアップロードする</td>\n",
              "      <td>2019-01-31 00:01:26</td>\n",
              "      <td>8</td>\n",
              "      <td>CloudStorage,Firebase,FirebaseCloudFunctions</td>\n",
              "      <td>https://qiita.com/shim0mura/items/b9c5eb649ada...</td>\n",
              "      <td>やる, てる, の, cloudfunctions, ある, ファイル, 画像, 読み込める...</td>\n",
              "    </tr>\n",
              "  </tbody>\n",
              "</table>\n",
              "</div>"
            ],
            "text/plain": [
              "   Unnamed: 0  ...                                            sharing\n",
              "0           0  ...  やる, てる, の, cloudfunctions, ある, ファイル, 画像, 読み込める...\n",
              "\n",
              "[1 rows x 9 columns]"
            ]
          },
          "metadata": {
            "tags": []
          },
          "execution_count": 143
        }
      ]
    },
    {
      "cell_type": "markdown",
      "metadata": {
        "id": "d1kYUyswU6bn",
        "colab_type": "text"
      },
      "source": [
        "# 類似度"
      ]
    },
    {
      "cell_type": "code",
      "metadata": {
        "id": "bKv5JYQKU6bw",
        "colab_type": "code",
        "colab": {}
      },
      "source": [
        "# from gensim import similarities\n",
        "# doc_index = similarities.docsim.MatrixSimilarity(lda[corpus])"
      ],
      "execution_count": 0,
      "outputs": []
    },
    {
      "cell_type": "code",
      "metadata": {
        "id": "MaImeqT5U6bz",
        "colab_type": "code",
        "colab": {}
      },
      "source": [
        "# len(doc_index)"
      ],
      "execution_count": 0,
      "outputs": []
    },
    {
      "cell_type": "code",
      "metadata": {
        "id": "M1cx-k39U6b1",
        "colab_type": "code",
        "colab": {}
      },
      "source": [
        "# c = corpus[0]\n",
        "# vec_lda = lda[c]\n",
        "# vec_lda"
      ],
      "execution_count": 0,
      "outputs": []
    },
    {
      "cell_type": "code",
      "metadata": {
        "id": "sz5xVFZqU6b3",
        "colab_type": "code",
        "colab": {}
      },
      "source": [
        ""
      ],
      "execution_count": 0,
      "outputs": []
    },
    {
      "cell_type": "code",
      "metadata": {
        "id": "Gck2vBHJU6b6",
        "colab_type": "code",
        "colab": {}
      },
      "source": [
        "# s = doc_index.__getitem__(vec_lda)\n",
        "# s = sorted(enumerate(s), key=lambda t: t[1], reverse=True)"
      ],
      "execution_count": 0,
      "outputs": []
    },
    {
      "cell_type": "code",
      "metadata": {
        "id": "YjxuI1X8lGu7",
        "colab_type": "code",
        "colab": {}
      },
      "source": [
        "# def basic_info(num):\n",
        "#   if(num > len(df)):\n",
        "#     print(\"error\")\n",
        "#     return\n",
        "#   print(df['url'][num])\n",
        "#   print(df['title'][num])\n",
        "#   print(df['tags_str'][num])\n",
        "#   print('like count: ' + str(df['likes_count'][num]))"
      ],
      "execution_count": 0,
      "outputs": []
    },
    {
      "cell_type": "code",
      "metadata": {
        "id": "in-5-n-CiDyB",
        "colab_type": "code",
        "colab": {}
      },
      "source": [
        "# def document_corpus(num):\n",
        "#   print('文書のトピックの関連')\n",
        "#   topics = sorted(lda.get_document_topics(corpus[0]), key=lambda t:t[1], reverse=True)\n",
        "#   basic_info(num)\n",
        "#   print('-' * 20) \n",
        "#   # for t in topics[:5]:\n",
        "#   #   print(\"Topic # \",t[0])\n",
        "#   #   get_topic_words(t[0])\n",
        "#   #   print(\"\\n\")\n",
        "#     # print(\"{}: {}\".format(t[0], t[1]))\n"
      ],
      "execution_count": 0,
      "outputs": []
    },
    {
      "cell_type": "markdown",
      "metadata": {
        "id": "EsbBBY_HHm8y",
        "colab_type": "text"
      },
      "source": [
        "類似している記事dfで返す"
      ]
    },
    {
      "cell_type": "code",
      "metadata": {
        "id": "vAvzfd-S7yVv",
        "colab_type": "code",
        "colab": {}
      },
      "source": [
        "# def similar_df(index, lda_model, corpus, similar_num,  debug=True):\n",
        "#   # drop_list = [\"sharing\", \"Unnamed\", \"created_at\"]\n",
        "#   drop_list = [\"sharing\", \"created_at\", \"article_id\", \t\"likes_count\", \"tags_str\",\"title\", \"url\", \"Unnamed: 0\" ]\n",
        "#   vec_lda = lda_model[corpus[index]] #50zigenn\n",
        "#   s = doc_index.__getitem__(vec_lda) #記事の数\n",
        "#   s = sorted(enumerate(s), key=lambda t: t[1], reverse=True) #並び替え（ヤバい）\n",
        "#   df_json = pd.DataFrame()\n",
        "#   for doc_id, sim in s[1:similar_num+1]:\n",
        "#     if debug:\n",
        "#       print(\"similarity: \" + str(sim))\n",
        "#       basic_info(doc_id)\n",
        "#       print(\"===========\")\n",
        "#     # df_json = pd.concat([df_json, df.loc[doc_id]], axis=0, sort=True)\n",
        "#     series = df.loc[doc_id].copy()\n",
        "#     series[\"similarity\"] = sim\n",
        "#     df_json = df_json.append(series)\n",
        "\n",
        "#   df_json_ed = df_json.drop(drop_list,  axis=1)\n",
        "#   return df_json_ed\n"
      ],
      "execution_count": 0,
      "outputs": []
    },
    {
      "cell_type": "code",
      "metadata": {
        "id": "XCfP7yyODmlR",
        "colab_type": "code",
        "colab": {}
      },
      "source": [
        "# def similar_json(index, lda_model, corpus, similar_num,   debug=True):\n",
        "#   df_json = similar_df(index, lda_model, corpus, similar_num,  debug=debug)\n",
        "#   return df_json.to_json(orient='records')"
      ],
      "execution_count": 0,
      "outputs": []
    },
    {
      "cell_type": "code",
      "metadata": {
        "id": "LSKg0zKk93PE",
        "colab_type": "code",
        "colab": {}
      },
      "source": [
        "# make_json(0, debug=False)"
      ],
      "execution_count": 0,
      "outputs": []
    },
    {
      "cell_type": "code",
      "metadata": {
        "id": "oSVF2z3695TT",
        "colab_type": "code",
        "colab": {}
      },
      "source": [
        "# def append_json_to_df(df_j,  lda_model, corpus,  similar_num):\n",
        "#   json_list = []\n",
        "#   for i in range(len(df_j)):\n",
        "#      json_list.append(similar_json(i,  lda_model, corpus, similar_num,  debug=False))\n",
        "#   print(len(json_list))\n",
        "#   df_j[\"json\"] = json_list\n",
        "#   return df_j\n",
        "\n",
        "    "
      ],
      "execution_count": 0,
      "outputs": []
    },
    {
      "cell_type": "code",
      "metadata": {
        "id": "DvzqDS6KC-mJ",
        "colab_type": "code",
        "colab": {}
      },
      "source": [
        "# append_json_to_df(df[:10].copy(), lda, corpus, 5)"
      ],
      "execution_count": 0,
      "outputs": []
    },
    {
      "cell_type": "code",
      "metadata": {
        "id": "H-IoVyrcF53Q",
        "colab_type": "code",
        "colab": {}
      },
      "source": [
        "from gensim import similarities\n",
        "from gensim import corpora, models\n",
        "import pandas as pd\n",
        "\n",
        "lda_path = \"data/lda/lda.model\"\n",
        "corpus_path = \"data/lda/cop.mm\"\n",
        "\n",
        "\n",
        "class Similar:\n",
        "    def __init__(self, df, lda_model=None, corpus=None, recommend_num=15, debug=True):\n",
        "        \"\"\"\n",
        "        コンストラクタ\n",
        "        :param df: corpusの作成に使用したDataFrame(corpusに対応している)\n",
        "        :param lda_model: 学習済みLDAモデル\n",
        "        :param corpus: corpus\n",
        "        :param recommend_num: 一記事における推薦記事数\n",
        "        :param debug: False推奨\n",
        "        \"\"\"\n",
        "        self.df = df\n",
        "        self.lda_model = lda_model if lda_model else models.ldamodel.LdaModel.load(lda_path)\n",
        "        self.corpus = corpus if corpus else corpora.MmCorpus(corpus_path)\n",
        "        self.recommend_num = recommend_num\n",
        "        self.debug = debug\n",
        "        self.doc_index = similarities.docsim.MatrixSimilarity(self.lda_model[self.corpus])\n",
        "\n",
        "    def basic_info(self, num):\n",
        "        \"\"\"\n",
        "        dfのnum番目の情報を表示する\n",
        "        :param num: 表示したいdfの番号\n",
        "        :return:\n",
        "        \"\"\"\n",
        "        if num > len(self.df):\n",
        "            print(\"error\")\n",
        "            return\n",
        "        print(self.df['url'][num])\n",
        "        print(self.df['title'][num])\n",
        "        print(self.df['tags_str'][num])\n",
        "        print('like count: ' + str(self.df['likes_count'][num]))\n",
        "\n",
        "    def similar_df(self, index):\n",
        "        \"\"\"\n",
        "        推薦記事をDataFrameで返す\n",
        "        DataFrameのcolumnは[index, similarity]\n",
        "        :param index: index番目の記事に基づいて推薦する\n",
        "        :return: DataFrame 推薦記事\n",
        "        \"\"\"\n",
        "        # drop_list = [\"sharing\", \"Unnamed\", \"created_at\"]\n",
        "        drop_list = [\"sharing\", \"created_at\", \"article_id\", \"likes_count\", \"tags_str\", \"title\", \"url\", \"Unnamed: 0\"]\n",
        "        vec_lda = self.lda_model[self.corpus[index]]  # 50zigenn\n",
        "        s = self.doc_index.__getitem__(vec_lda)  # 記事の数\n",
        "        s = sorted(enumerate(s), key=lambda t: t[1], reverse=True)  # 並び替え（ヤバい）\n",
        "        df_json = pd.DataFrame()\n",
        "        for doc_id, sim in s[1:self.recommend_num + 1]:\n",
        "            if self.debug:\n",
        "                print(\"similarity: \" + str(sim))\n",
        "                self.basic_info(doc_id)\n",
        "                print(\"===========\")\n",
        "            # df_json = pd.concat([df_json, df.loc[doc_id]], axis=0, sort=True)\n",
        "            series = self.df.loc[doc_id].copy()\n",
        "            series[\"similarity\"] = sim\n",
        "            df_json = df_json.append(series)\n",
        "\n",
        "        df_json_ed = df_json.drop(drop_list, axis=1)\n",
        "        return df_json_ed\n",
        "\n",
        "    def similar_json(self, index):\n",
        "        \"\"\"\n",
        "        推薦記事をjson型に変換する\n",
        "        :param index: index番目の記事に基づいて推薦する\n",
        "        :return:\n",
        "        \"\"\"\n",
        "        df_json = self.similar_df(index)\n",
        "        return df_json.to_json(orient='records')\n",
        "\n",
        "    def append_json_to_df(self, df_num=None):\n",
        "        \"\"\"\n",
        "        元のDataFrameにjsonの列を追加する\n",
        "        問題点：sortにかかる計算量が N^2 log(N) (Nは記事数)\n",
        "                一月分でも結構時間がかかる\n",
        "        :param df_num:とりあえずdf_num番目まで表示 debug用\n",
        "        :return:\n",
        "        \"\"\"\n",
        "        df_num = df_num if df_num else len(self.df)\n",
        "        json_list = []\n",
        "        df_j = self.df[:df_num]\n",
        "        for i in range(df_num):\n",
        "            json_list.append(self.similar_json(i))\n",
        "        if self.debug:\n",
        "            print(len(json_list))\n",
        "        df_j[\"json\"] = json_list\n",
        "        return df_j\n"
      ],
      "execution_count": 0,
      "outputs": []
    },
    {
      "cell_type": "code",
      "metadata": {
        "id": "mg-B4gr-Q1IR",
        "colab_type": "code",
        "colab": {}
      },
      "source": [
        "simi = Similar(df, debug=False)"
      ],
      "execution_count": 0,
      "outputs": []
    },
    {
      "cell_type": "code",
      "metadata": {
        "id": "Pdvx1hL-RVbT",
        "colab_type": "code",
        "colab": {
          "base_uri": "https://localhost:8080/",
          "height": 1000
        },
        "outputId": "6191a405-94a7-4d5a-f096-3ebee1169ffa"
      },
      "source": [
        "simi.append_json_to_df(df_num=20)"
      ],
      "execution_count": 154,
      "outputs": [
        {
          "output_type": "stream",
          "text": [
            "/usr/local/lib/python3.6/dist-packages/ipykernel_launcher.py:90: SettingWithCopyWarning: \n",
            "A value is trying to be set on a copy of a slice from a DataFrame.\n",
            "Try using .loc[row_indexer,col_indexer] = value instead\n",
            "\n",
            "See the caveats in the documentation: http://pandas.pydata.org/pandas-docs/stable/user_guide/indexing.html#returning-a-view-versus-a-copy\n"
          ],
          "name": "stderr"
        },
        {
          "output_type": "execute_result",
          "data": {
            "text/html": [
              "<div>\n",
              "<style scoped>\n",
              "    .dataframe tbody tr th:only-of-type {\n",
              "        vertical-align: middle;\n",
              "    }\n",
              "\n",
              "    .dataframe tbody tr th {\n",
              "        vertical-align: top;\n",
              "    }\n",
              "\n",
              "    .dataframe thead th {\n",
              "        text-align: right;\n",
              "    }\n",
              "</style>\n",
              "<table border=\"1\" class=\"dataframe\">\n",
              "  <thead>\n",
              "    <tr style=\"text-align: right;\">\n",
              "      <th></th>\n",
              "      <th>Unnamed: 0</th>\n",
              "      <th>id</th>\n",
              "      <th>article_id</th>\n",
              "      <th>title</th>\n",
              "      <th>created_at</th>\n",
              "      <th>likes_count</th>\n",
              "      <th>tags_str</th>\n",
              "      <th>url</th>\n",
              "      <th>sharing</th>\n",
              "      <th>json</th>\n",
              "    </tr>\n",
              "  </thead>\n",
              "  <tbody>\n",
              "    <tr>\n",
              "      <th>0</th>\n",
              "      <td>0</td>\n",
              "      <td>30</td>\n",
              "      <td>b9c5eb649ada9224e928</td>\n",
              "      <td>CloudFunctionsからCloudStorageへ画像をアップロードする</td>\n",
              "      <td>2019-01-31 00:01:26</td>\n",
              "      <td>8</td>\n",
              "      <td>CloudStorage,Firebase,FirebaseCloudFunctions</td>\n",
              "      <td>https://qiita.com/shim0mura/items/b9c5eb649ada...</td>\n",
              "      <td>やる, てる, の, cloudfunctions, ある, ファイル, 画像, 読み込める...</td>\n",
              "      <td>[{\"id\":107627.0,\"similarity\":0.8924355507},{\"i...</td>\n",
              "    </tr>\n",
              "    <tr>\n",
              "      <th>1</th>\n",
              "      <td>1</td>\n",
              "      <td>29</td>\n",
              "      <td>06be5a8075e0c7924dbf</td>\n",
              "      <td>第二種スターリング数の指数型母関数表示とその応用</td>\n",
              "      <td>2019-01-31 00:03:56</td>\n",
              "      <td>1</td>\n",
              "      <td>数学,組み合わせ</td>\n",
              "      <td>https://qiita.com/kaityo256/items/06be5a8075e0...</td>\n",
              "      <td>スターリング数, stirling, Number, ご存知, 組み合わせ, 問題, 顔, ...</td>\n",
              "      <td>[{\"id\":234315.0,\"similarity\":0.9076671004},{\"i...</td>\n",
              "    </tr>\n",
              "    <tr>\n",
              "      <th>2</th>\n",
              "      <td>2</td>\n",
              "      <td>28</td>\n",
              "      <td>5789ee7a724c6cb786a9</td>\n",
              "      <td>Oracle Cloud(OCI)のcliのinput/outputで使うjsonに慣れる</td>\n",
              "      <td>2019-01-31 00:09:57</td>\n",
              "      <td>3</td>\n",
              "      <td>JSON,cli,oci,oraclecloud</td>\n",
              "      <td>https://qiita.com/feifo/items/5789ee7a724c6cb7...</td>\n",
              "      <td>新規作成, tips, 追加, Oracle Cloud, infrastructure, ...</td>\n",
              "      <td>[{\"id\":109339.0,\"similarity\":0.9266477823},{\"i...</td>\n",
              "    </tr>\n",
              "    <tr>\n",
              "      <th>3</th>\n",
              "      <td>3</td>\n",
              "      <td>27</td>\n",
              "      <td>e9ff4d797a19c84231a1</td>\n",
              "      <td>[.NET] コードを見直したくなる「参照型」等価判定の思わぬ落とし穴（特殊編）</td>\n",
              "      <td>2019-01-31 00:10:46</td>\n",
              "      <td>1</td>\n",
              "      <td>VB.Net,C#,.NET,tips,等価演算子</td>\n",
              "      <td>https://qiita.com/CodeOne/items/e9ff4d797a19c8...</td>\n",
              "      <td>続く, 特殊, インターン, プール, 文字列, リテラル, インターン, プール, テーブ...</td>\n",
              "      <td>[{\"id\":236213.0,\"similarity\":0.9793128967},{\"i...</td>\n",
              "    </tr>\n",
              "    <tr>\n",
              "      <th>4</th>\n",
              "      <td>4</td>\n",
              "      <td>26</td>\n",
              "      <td>a31c2405a4a32d43bb24</td>\n",
              "      <td>【テンプレートリテラル】と【オブジェクトリテラル】を覚えたら「ちょっと」いい感じにコードが書けた！</td>\n",
              "      <td>2019-01-31 00:14:52</td>\n",
              "      <td>30</td>\n",
              "      <td>JavaScript,es6</td>\n",
              "      <td>https://qiita.com/micropig3402/items/a31c2405a...</td>\n",
              "      <td>概要, テンプレート, リテラル, オブジェクト, リテラル, 覚える, いい, コード, ...</td>\n",
              "      <td>[{\"id\":234712.0,\"similarity\":0.908264637},{\"id...</td>\n",
              "    </tr>\n",
              "    <tr>\n",
              "      <th>5</th>\n",
              "      <td>5</td>\n",
              "      <td>25</td>\n",
              "      <td>763ccaa751ef0382c2bb</td>\n",
              "      <td>【Bootstrap】navbarの文字色を変えた時にちょっと詰まったこと</td>\n",
              "      <td>2019-01-31 00:35:07</td>\n",
              "      <td>5</td>\n",
              "      <td>bootstrap4</td>\n",
              "      <td>https://qiita.com/sayuprc/items/763ccaa751ef03...</td>\n",
              "      <td>調べる, いい, 記事, 出る, くる, 詰まる, メモ, 残す, おく, 変更, 文字, ...</td>\n",
              "      <td>[{\"id\":108312.0,\"similarity\":0.9454466105},{\"i...</td>\n",
              "    </tr>\n",
              "    <tr>\n",
              "      <th>6</th>\n",
              "      <td>6</td>\n",
              "      <td>24</td>\n",
              "      <td>0e1c74e16e443cdfa1dd</td>\n",
              "      <td>IBM Cloud Developer Tools - CLI installer scri...</td>\n",
              "      <td>2019-01-31 00:38:41</td>\n",
              "      <td>0</td>\n",
              "      <td>ibmcloud,poweshell</td>\n",
              "      <td>https://qiita.com/mori_dai/items/0e1c74e16e443...</td>\n",
              "      <td>経緯, IBM Cloud, く, 取る, やく, 使う, の, 実行, 結果, エラーログ...</td>\n",
              "      <td>[{\"id\":107664.0,\"similarity\":0.8950814605},{\"i...</td>\n",
              "    </tr>\n",
              "    <tr>\n",
              "      <th>7</th>\n",
              "      <td>7</td>\n",
              "      <td>23</td>\n",
              "      <td>2be73956b788c745048f</td>\n",
              "      <td>【初心者向け】非同期にCRUDするReactアプリケーションを作る</td>\n",
              "      <td>2019-01-31 00:38:48</td>\n",
              "      <td>43</td>\n",
              "      <td>JavaScript,json-server,React</td>\n",
              "      <td>https://qiita.com/t12u/items/2be73956b788c745048f</td>\n",
              "      <td>Re・Act, 触る, 始める, プログラミング, 初心者, 非同期, データ, 扱う, ア...</td>\n",
              "      <td>[{\"id\":107106.0,\"similarity\":0.8116985559},{\"i...</td>\n",
              "    </tr>\n",
              "    <tr>\n",
              "      <th>8</th>\n",
              "      <td>8</td>\n",
              "      <td>22</td>\n",
              "      <td>9cfc5e003935001b919f</td>\n",
              "      <td>初めてのJavaScript④</td>\n",
              "      <td>2019-01-31 00:44:12</td>\n",
              "      <td>0</td>\n",
              "      <td>#初心者</td>\n",
              "      <td>https://qiita.com/prn_itg/items/9cfc5e00393500...</td>\n",
              "      <td>オブジェクト, 配列, 複数, データ, まとめる, 管理, する, の, 用いる, 配列,...</td>\n",
              "      <td>[{\"id\":236135.0,\"similarity\":0.9567135572},{\"i...</td>\n",
              "    </tr>\n",
              "    <tr>\n",
              "      <th>9</th>\n",
              "      <td>9</td>\n",
              "      <td>21</td>\n",
              "      <td>f3d3db0819834a5dd596</td>\n",
              "      <td>【Python】prompt-toolkitのtext_before_cursorとget_...</td>\n",
              "      <td>2019-01-31 00:44:15</td>\n",
              "      <td>2</td>\n",
              "      <td>Python,prompt_toolkit</td>\n",
              "      <td>https://qiita.com/tamago324/items/f3d3db081983...</td>\n",
              "      <td>使う, いる, 自力, 調べる, みる, わかる, ISSUES, 質問, する, みる, ...</td>\n",
              "      <td>[{\"id\":105392.0,\"similarity\":0.8289510012},{\"i...</td>\n",
              "    </tr>\n",
              "    <tr>\n",
              "      <th>10</th>\n",
              "      <td>10</td>\n",
              "      <td>20</td>\n",
              "      <td>93b13e76c8dc959758dc</td>\n",
              "      <td>「最小努力の法則」とコード品質</td>\n",
              "      <td>2019-01-31 00:44:37</td>\n",
              "      <td>2</td>\n",
              "      <td>ポエム,品質</td>\n",
              "      <td>https://qiita.com/sassy_watson/items/93b13e76c...</td>\n",
              "      <td>自戒, 弁, 最小, 努力, 法則, 最小, 努力, 法則, ある, 目標, 達成, する,...</td>\n",
              "      <td>[{\"id\":108317.0,\"similarity\":0.9674042463},{\"i...</td>\n",
              "    </tr>\n",
              "    <tr>\n",
              "      <th>11</th>\n",
              "      <td>11</td>\n",
              "      <td>19</td>\n",
              "      <td>6a629bb78806853c971b</td>\n",
              "      <td>Vue.js使いだして２年くらい経ったけど、使ったことないAPIを使ってみる「グローバルAP...</td>\n",
              "      <td>2019-01-31 00:56:31</td>\n",
              "      <td>1</td>\n",
              "      <td>JavaScript,Vue.js</td>\n",
              "      <td>https://qiita.com/bolobob/items/6a629bb7880685...</td>\n",
              "      <td>できる, 汎用的, 使う, 使う, いう, 使い方, 思う, 浮かぶ, する, みる, 含む...</td>\n",
              "      <td>[{\"id\":234819.0,\"similarity\":0.8680871725},{\"i...</td>\n",
              "    </tr>\n",
              "    <tr>\n",
              "      <th>12</th>\n",
              "      <td>12</td>\n",
              "      <td>18</td>\n",
              "      <td>eae11f822cfbde9cd8ff</td>\n",
              "      <td>GoからLuaのユーザーコードを実行する</td>\n",
              "      <td>2019-01-31 00:59:04</td>\n",
              "      <td>2</td>\n",
              "      <td>Go,Lua</td>\n",
              "      <td>https://qiita.com/key/items/eae11f822cfbde9cd8ff</td>\n",
              "      <td>やる, 安全, ユーザー, コード, 実行, する, いくつか, Lua, 処理系, 移植,...</td>\n",
              "      <td>[{\"id\":234536.0,\"similarity\":0.7590742111},{\"i...</td>\n",
              "    </tr>\n",
              "    <tr>\n",
              "      <th>13</th>\n",
              "      <td>13</td>\n",
              "      <td>17</td>\n",
              "      <td>269d67e109fe42a31a0d</td>\n",
              "      <td>GitHubの道① アカウント登録編</td>\n",
              "      <td>2019-01-31 01:01:01</td>\n",
              "      <td>1</td>\n",
              "      <td>Linux,Git,GitHub</td>\n",
              "      <td>https://qiita.com/rdonster/items/269d67e109fe4...</td>\n",
              "      <td>若干, 制限, ある, 非公開, 使える, プライベートリポジトリ, GitHub, 無料,...</td>\n",
              "      <td>[{\"id\":108946.0,\"similarity\":0.8905448914},{\"i...</td>\n",
              "    </tr>\n",
              "    <tr>\n",
              "      <th>14</th>\n",
              "      <td>14</td>\n",
              "      <td>16</td>\n",
              "      <td>d9e8723f41d8ea26bd5d</td>\n",
              "      <td>初心者のRuby on Rails学習方法</td>\n",
              "      <td>2019-01-31 01:01:52</td>\n",
              "      <td>0</td>\n",
              "      <td>Ruby,Rails,初心者</td>\n",
              "      <td>https://qiita.com/oekazuma/items/d9e8723f41d8e...</td>\n",
              "      <td>まえがき, 最近, RUBY, 勉強, する, Ruby on Rails, 学習, する,...</td>\n",
              "      <td>[{\"id\":109050.0,\"similarity\":0.9946596622},{\"i...</td>\n",
              "    </tr>\n",
              "    <tr>\n",
              "      <th>15</th>\n",
              "      <td>15</td>\n",
              "      <td>15</td>\n",
              "      <td>16436354bb754bde46e9</td>\n",
              "      <td>【今日から携わる】jQueryで作るハンバーガーメニュー（シンプル&amp;アニメーションなど）</td>\n",
              "      <td>2019-01-31 01:12:46</td>\n",
              "      <td>2</td>\n",
              "      <td>jQuery,ハンバーガーメニュー,いまたず</td>\n",
              "      <td>https://qiita.com/abeno/items/16436354bb754bde...</td>\n",
              "      <td>シンプル, ハンバーガー, メニュー, berger, simple, pen, BY, a...</td>\n",
              "      <td>[{\"id\":109008.0,\"similarity\":0.9796949625},{\"i...</td>\n",
              "    </tr>\n",
              "    <tr>\n",
              "      <th>16</th>\n",
              "      <td>16</td>\n",
              "      <td>14</td>\n",
              "      <td>1e194b92834a3baedae1</td>\n",
              "      <td>UnityのSimpleAnimationで速度を変える方法</td>\n",
              "      <td>2019-01-31 01:17:53</td>\n",
              "      <td>1</td>\n",
              "      <td>Unity2D,Animator,SimpleAnimation</td>\n",
              "      <td>https://qiita.com/ganyoginko/items/1e194b92834...</td>\n",
              "      <td>simpleanimation, GitHub, の, 読む, 変える, アニメ, stat...</td>\n",
              "      <td>[{\"id\":233562.0,\"similarity\":0.8561782241},{\"i...</td>\n",
              "    </tr>\n",
              "    <tr>\n",
              "      <th>17</th>\n",
              "      <td>17</td>\n",
              "      <td>13</td>\n",
              "      <td>1c416355b197a1849e30</td>\n",
              "      <td>Realtime Databaseでは空配列や空オブジェクトを保存できない</td>\n",
              "      <td>2019-01-31 01:18:26</td>\n",
              "      <td>0</td>\n",
              "      <td>Firebase</td>\n",
              "      <td>https://qiita.com/lisp719/items/1c416355b197a1...</td>\n",
              "      <td>概要, firebase, realtime, database, データ, 保存, する,...</td>\n",
              "      <td>[{\"id\":109278.0,\"similarity\":0.8419388533},{\"i...</td>\n",
              "    </tr>\n",
              "    <tr>\n",
              "      <th>18</th>\n",
              "      <td>18</td>\n",
              "      <td>12</td>\n",
              "      <td>7efc5c35b2e95637d8c1</td>\n",
              "      <td>CentOS 7にMySQLをインストールして初期設定するまで</td>\n",
              "      <td>2019-01-31 01:57:33</td>\n",
              "      <td>23</td>\n",
              "      <td>Linux,MySQL,CentOS,Yum,centos7</td>\n",
              "      <td>https://qiita.com/nooboolean/items/7efc5c35b2e...</td>\n",
              "      <td>環境, MacOS, 12.6m, acbook, pro, VirtualBox, Cen...</td>\n",
              "      <td>[{\"id\":236134.0,\"similarity\":0.9360497594},{\"i...</td>\n",
              "    </tr>\n",
              "    <tr>\n",
              "      <th>19</th>\n",
              "      <td>19</td>\n",
              "      <td>11</td>\n",
              "      <td>2f2c31ffb026a36f1b08</td>\n",
              "      <td>グローバルゲームジャムで使ったUnityのテクニックとか開発のコツ 2019</td>\n",
              "      <td>2019-01-31 02:02:36</td>\n",
              "      <td>140</td>\n",
              "      <td>Unity</td>\n",
              "      <td>https://qiita.com/toRisouP/items/2f2c31ffb026a...</td>\n",
              "      <td>グローバルゲームジャム, 用いる, 開発, コツ, UNITY, テクニック, まとめる, ...</td>\n",
              "      <td>[{\"id\":234918.0,\"similarity\":0.9133855104},{\"i...</td>\n",
              "    </tr>\n",
              "  </tbody>\n",
              "</table>\n",
              "</div>"
            ],
            "text/plain": [
              "    Unnamed: 0  ...                                               json\n",
              "0            0  ...  [{\"id\":107627.0,\"similarity\":0.8924355507},{\"i...\n",
              "1            1  ...  [{\"id\":234315.0,\"similarity\":0.9076671004},{\"i...\n",
              "2            2  ...  [{\"id\":109339.0,\"similarity\":0.9266477823},{\"i...\n",
              "3            3  ...  [{\"id\":236213.0,\"similarity\":0.9793128967},{\"i...\n",
              "4            4  ...  [{\"id\":234712.0,\"similarity\":0.908264637},{\"id...\n",
              "5            5  ...  [{\"id\":108312.0,\"similarity\":0.9454466105},{\"i...\n",
              "6            6  ...  [{\"id\":107664.0,\"similarity\":0.8950814605},{\"i...\n",
              "7            7  ...  [{\"id\":107106.0,\"similarity\":0.8116985559},{\"i...\n",
              "8            8  ...  [{\"id\":236135.0,\"similarity\":0.9567135572},{\"i...\n",
              "9            9  ...  [{\"id\":105392.0,\"similarity\":0.8289510012},{\"i...\n",
              "10          10  ...  [{\"id\":108317.0,\"similarity\":0.9674042463},{\"i...\n",
              "11          11  ...  [{\"id\":234819.0,\"similarity\":0.8680871725},{\"i...\n",
              "12          12  ...  [{\"id\":234536.0,\"similarity\":0.7590742111},{\"i...\n",
              "13          13  ...  [{\"id\":108946.0,\"similarity\":0.8905448914},{\"i...\n",
              "14          14  ...  [{\"id\":109050.0,\"similarity\":0.9946596622},{\"i...\n",
              "15          15  ...  [{\"id\":109008.0,\"similarity\":0.9796949625},{\"i...\n",
              "16          16  ...  [{\"id\":233562.0,\"similarity\":0.8561782241},{\"i...\n",
              "17          17  ...  [{\"id\":109278.0,\"similarity\":0.8419388533},{\"i...\n",
              "18          18  ...  [{\"id\":236134.0,\"similarity\":0.9360497594},{\"i...\n",
              "19          19  ...  [{\"id\":234918.0,\"similarity\":0.9133855104},{\"i...\n",
              "\n",
              "[20 rows x 10 columns]"
            ]
          },
          "metadata": {
            "tags": []
          },
          "execution_count": 154
        }
      ]
    },
    {
      "cell_type": "code",
      "metadata": {
        "id": "Be-OEqi8SB_-",
        "colab_type": "code",
        "colab": {}
      },
      "source": [
        ""
      ],
      "execution_count": 0,
      "outputs": []
    }
  ]
}