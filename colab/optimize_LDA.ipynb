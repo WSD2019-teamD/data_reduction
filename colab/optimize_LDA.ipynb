{
  "nbformat": 4,
  "nbformat_minor": 0,
  "metadata": {
    "colab": {
      "name": "optimize_LDA.ipynb",
      "provenance": [],
      "collapsed_sections": [],
      "authorship_tag": "ABX9TyOmV4SVHWlCreRlCDIfrRdS",
      "include_colab_link": true
    },
    "kernelspec": {
      "name": "python3",
      "display_name": "Python 3"
    }
  },
  "cells": [
    {
      "cell_type": "markdown",
      "metadata": {
        "id": "view-in-github",
        "colab_type": "text"
      },
      "source": [
        "<a href=\"https://colab.research.google.com/github/WSD2019-teamD/data_reduction/blob/master/colab/optimize_LDA.ipynb\" target=\"_parent\"><img src=\"https://colab.research.google.com/assets/colab-badge.svg\" alt=\"Open In Colab\"/></a>"
      ]
    },
    {
      "cell_type": "code",
      "metadata": {
        "id": "rw1XFebvQpWD",
        "colab_type": "code",
        "colab": {
          "base_uri": "https://localhost:8080/",
          "height": 658
        },
        "outputId": "f6bb6f40-11f0-432f-c65a-31f2d625b270"
      },
      "source": [
        "pip install pyLDAvis"
      ],
      "execution_count": 8,
      "outputs": [
        {
          "output_type": "stream",
          "text": [
            "Collecting pyLDAvis\n",
            "\u001b[?25l  Downloading https://files.pythonhosted.org/packages/a5/3a/af82e070a8a96e13217c8f362f9a73e82d61ac8fff3a2561946a97f96266/pyLDAvis-2.1.2.tar.gz (1.6MB)\n",
            "\u001b[K     |████████████████████████████████| 1.6MB 2.8MB/s \n",
            "\u001b[?25hRequirement already satisfied: wheel>=0.23.0 in /usr/local/lib/python3.6/dist-packages (from pyLDAvis) (0.33.6)\n",
            "Requirement already satisfied: numpy>=1.9.2 in /usr/local/lib/python3.6/dist-packages (from pyLDAvis) (1.17.5)\n",
            "Requirement already satisfied: scipy>=0.18.0 in /usr/local/lib/python3.6/dist-packages (from pyLDAvis) (1.4.1)\n",
            "Requirement already satisfied: pandas>=0.17.0 in /usr/local/lib/python3.6/dist-packages (from pyLDAvis) (0.25.3)\n",
            "Requirement already satisfied: joblib>=0.8.4 in /usr/local/lib/python3.6/dist-packages (from pyLDAvis) (0.14.1)\n",
            "Requirement already satisfied: jinja2>=2.7.2 in /usr/local/lib/python3.6/dist-packages (from pyLDAvis) (2.10.3)\n",
            "Requirement already satisfied: numexpr in /usr/local/lib/python3.6/dist-packages (from pyLDAvis) (2.7.1)\n",
            "Requirement already satisfied: pytest in /usr/local/lib/python3.6/dist-packages (from pyLDAvis) (3.6.4)\n",
            "Requirement already satisfied: future in /usr/local/lib/python3.6/dist-packages (from pyLDAvis) (0.16.0)\n",
            "Collecting funcy\n",
            "\u001b[?25l  Downloading https://files.pythonhosted.org/packages/ce/4b/6ffa76544e46614123de31574ad95758c421aae391a1764921b8a81e1eae/funcy-1.14.tar.gz (548kB)\n",
            "\u001b[K     |████████████████████████████████| 552kB 42.1MB/s \n",
            "\u001b[?25hRequirement already satisfied: python-dateutil>=2.6.1 in /usr/local/lib/python3.6/dist-packages (from pandas>=0.17.0->pyLDAvis) (2.6.1)\n",
            "Requirement already satisfied: pytz>=2017.2 in /usr/local/lib/python3.6/dist-packages (from pandas>=0.17.0->pyLDAvis) (2018.9)\n",
            "Requirement already satisfied: MarkupSafe>=0.23 in /usr/local/lib/python3.6/dist-packages (from jinja2>=2.7.2->pyLDAvis) (1.1.1)\n",
            "Requirement already satisfied: more-itertools>=4.0.0 in /usr/local/lib/python3.6/dist-packages (from pytest->pyLDAvis) (8.0.2)\n",
            "Requirement already satisfied: py>=1.5.0 in /usr/local/lib/python3.6/dist-packages (from pytest->pyLDAvis) (1.8.1)\n",
            "Requirement already satisfied: atomicwrites>=1.0 in /usr/local/lib/python3.6/dist-packages (from pytest->pyLDAvis) (1.3.0)\n",
            "Requirement already satisfied: six>=1.10.0 in /usr/local/lib/python3.6/dist-packages (from pytest->pyLDAvis) (1.12.0)\n",
            "Requirement already satisfied: pluggy<0.8,>=0.5 in /usr/local/lib/python3.6/dist-packages (from pytest->pyLDAvis) (0.7.1)\n",
            "Requirement already satisfied: attrs>=17.4.0 in /usr/local/lib/python3.6/dist-packages (from pytest->pyLDAvis) (19.3.0)\n",
            "Requirement already satisfied: setuptools in /usr/local/lib/python3.6/dist-packages (from pytest->pyLDAvis) (42.0.2)\n",
            "Building wheels for collected packages: pyLDAvis, funcy\n",
            "  Building wheel for pyLDAvis (setup.py) ... \u001b[?25l\u001b[?25hdone\n",
            "  Created wheel for pyLDAvis: filename=pyLDAvis-2.1.2-py2.py3-none-any.whl size=97711 sha256=8fe58dfee6927bd121e88c279be21ddf0ec86875f93ba3984133a4b6b8987c02\n",
            "  Stored in directory: /root/.cache/pip/wheels/98/71/24/513a99e58bb6b8465bae4d2d5e9dba8f0bef8179e3051ac414\n",
            "  Building wheel for funcy (setup.py) ... \u001b[?25l\u001b[?25hdone\n",
            "  Created wheel for funcy: filename=funcy-1.14-py2.py3-none-any.whl size=32040 sha256=95bdbf3723dd35051834a24f299a28c59e470b1c676270fdf8dfcbe04bb53652\n",
            "  Stored in directory: /root/.cache/pip/wheels/20/5a/d8/1d875df03deae6f178dfdf70238cca33f948ef8a6f5209f2eb\n",
            "Successfully built pyLDAvis funcy\n",
            "Installing collected packages: funcy, pyLDAvis\n",
            "Successfully installed funcy-1.14 pyLDAvis-2.1.2\n"
          ],
          "name": "stdout"
        }
      ]
    },
    {
      "cell_type": "code",
      "metadata": {
        "id": "HnLnV-aTQF0m",
        "colab_type": "code",
        "colab": {}
      },
      "source": [
        "# This Python 3 environment comes with many helpful analytics libraries installed\n",
        "# It is defined by the kaggle/python docker image: https://github.com/kaggle/docker-python\n",
        "# For example, here's several helpful packages to load in \n",
        "\n",
        "import numpy as np # linear algebra\n",
        "import pandas as pd # data processing, CSV file I/O (e.g. pd.read_csv)\n",
        "\n",
        "# NLP\n",
        "import glob\n",
        "from tqdm import tqdm\n",
        "import math\n",
        "import urllib\n",
        "import gensim\n",
        "from gensim import corpora\n",
        "from collections import defaultdict\n",
        "\n",
        "# pyLDAvis\n",
        "import pyLDAvis\n",
        "import pyLDAvis.gensim\n",
        "pyLDAvis.enable_notebook()\n",
        "\n",
        "# Vis\n",
        "from wordcloud import WordCloud\n",
        "from PIL import Image\n",
        "import matplotlib\n",
        "matplotlib.use('Agg') \n",
        "import matplotlib.pylab as plt\n",
        "font = {'family': 'TakaoGothic'}\n",
        "matplotlib.rc('font', **font)\n",
        "\n",
        "# Input data files are available in the \"../input/\" directory.\n",
        "# For example, running this (by clicking run or pressing Shift+Enter) will list the files in the input directory\n",
        "\n",
        "import os\n",
        "import gc\n",
        "import logging\n",
        "import pickle\n",
        "from smart_open import open\n",
        "# print(os.listdir(\"../input\"))\n",
        "\n",
        "# Any results you write to the current directory are saved as output."
      ],
      "execution_count": 0,
      "outputs": []
    },
    {
      "cell_type": "code",
      "metadata": {
        "id": "3sDeeOo-NsnN",
        "colab_type": "code",
        "colab": {
          "base_uri": "https://localhost:8080/",
          "height": 125
        },
        "outputId": "b23235b6-439d-4577-bfb4-18bc9a81ce0c"
      },
      "source": [
        "from google.colab import drive\n",
        "drive.mount('/content/drive')"
      ],
      "execution_count": 1,
      "outputs": [
        {
          "output_type": "stream",
          "text": [
            "Go to this URL in a browser: https://accounts.google.com/o/oauth2/auth?client_id=947318989803-6bn6qk8qdgf4n4g3pfee6491hc0brc4i.apps.googleusercontent.com&redirect_uri=urn%3aietf%3awg%3aoauth%3a2.0%3aoob&response_type=code&scope=email%20https%3a%2f%2fwww.googleapis.com%2fauth%2fdocs.test%20https%3a%2f%2fwww.googleapis.com%2fauth%2fdrive%20https%3a%2f%2fwww.googleapis.com%2fauth%2fdrive.photos.readonly%20https%3a%2f%2fwww.googleapis.com%2fauth%2fpeopleapi.readonly\n",
            "\n",
            "Enter your authorization code:\n",
            "··········\n",
            "Mounted at /content/drive\n"
          ],
          "name": "stdout"
        }
      ]
    },
    {
      "cell_type": "code",
      "metadata": {
        "id": "QlKlepNuOnwB",
        "colab_type": "code",
        "colab": {
          "base_uri": "https://localhost:8080/",
          "height": 34
        },
        "outputId": "bc420be8-71bb-4d1d-b21d-e7e1c303806c"
      },
      "source": [
        "import os\n",
        "os.chdir('/content/drive/My Drive/Colab_Notebooks/data')\n",
        "print(os.getcwd())"
      ],
      "execution_count": 11,
      "outputs": [
        {
          "output_type": "stream",
          "text": [
            "/content/drive/My Drive/Colab_Notebooks/data\n"
          ],
          "name": "stdout"
        }
      ]
    },
    {
      "cell_type": "code",
      "metadata": {
        "id": "JsyMv_FtO-tp",
        "colab_type": "code",
        "colab": {
          "base_uri": "https://localhost:8080/",
          "height": 70
        },
        "outputId": "5407449b-ba27-4e06-bcb1-d07bbb970b5b"
      },
      "source": [
        "ls"
      ],
      "execution_count": 3,
      "outputs": [
        {
          "output_type": "stream",
          "text": [
            "\u001b[0m\u001b[01;34marticle\u001b[0m/      \u001b[01;34mcorpus\u001b[0m/      lda.model                  lda.model.state\n",
            "cop.mm        \u001b[01;34mdictionary\u001b[0m/  lda.model.expElogbeta.npy  sim\n",
            "cop.mm.index  dict.txt     lda.model.id2word\n"
          ],
          "name": "stdout"
        }
      ]
    },
    {
      "cell_type": "markdown",
      "metadata": {
        "id": "Iqhc_2wgOoC8",
        "colab_type": "text"
      },
      "source": [
        "## 辞書を読み込み\n"
      ]
    },
    {
      "cell_type": "code",
      "metadata": {
        "id": "v-4ZRU_aOsif",
        "colab_type": "code",
        "colab": {
          "base_uri": "https://localhost:8080/",
          "height": 34
        },
        "outputId": "30ad43b9-3a04-4a29-fb8c-68d109ebc6d0"
      },
      "source": [
        "if(os.path.exists(\"dictionary/dictionary.txt\")):\n",
        "  d = Dictionary.load_from_text(\"dictionary/dictionary.txt\")\n",
        "else:\n",
        "  print(\"no dictionary\")"
      ],
      "execution_count": 12,
      "outputs": [
        {
          "output_type": "stream",
          "text": [
            "no dictionary\n"
          ],
          "name": "stdout"
        }
      ]
    },
    {
      "cell_type": "markdown",
      "metadata": {
        "id": "2T0-GFurOtso",
        "colab_type": "text"
      },
      "source": [
        "## コーパスを読み込み\n"
      ]
    },
    {
      "cell_type": "code",
      "metadata": {
        "id": "WQ3Xa1MLOv7v",
        "colab_type": "code",
        "colab": {}
      },
      "source": [
        "if(os.path.exists(\"corpus/corpus.pkl\")):\n",
        "  corpus = pickle.dump(corpus,f)\n",
        "else:\n",
        "  print(\"no corpus\")"
      ],
      "execution_count": 0,
      "outputs": []
    },
    {
      "cell_type": "markdown",
      "metadata": {
        "id": "NsgARtWyP9bG",
        "colab_type": "text"
      },
      "source": [
        "# トピック数の検討\n",
        "\n",
        "モデルの評価指標として一般的に用いられる Perplexity と Coherence を用いて、トピック数を検討していこうと思います。"
      ]
    },
    {
      "cell_type": "code",
      "metadata": {
        "id": "FQRGmpWwQATV",
        "colab_type": "code",
        "colab": {}
      },
      "source": [
        "#Metrics for Topic Models\n",
        "start = 2\n",
        "limit = 22\n",
        "step = 1\n",
        "\n",
        "coherence_vals = []\n",
        "perplexity_vals = []\n",
        "\n",
        "for n_topic in tqdm(range(start, limit, step)):\n",
        "    lda_model = gensim.models.ldamodel.LdaModel(corpus=corpus, id2word=d, num_topics=n_topic, random_state=0)\n",
        "    perplexity_vals.append(np.exp2(-lda_model.log_perplexity(corpus)))\n",
        "    coherence_model_lda = gensim.models.CoherenceModel(model=lda_model, texts=texts, dictionary=d, coherence='c_v')\n",
        "    coherence_vals.append(coherence_model_lda.get_coherence())"
      ],
      "execution_count": 0,
      "outputs": []
    },
    {
      "cell_type": "code",
      "metadata": {
        "id": "IVkicOgjQEOV",
        "colab_type": "code",
        "colab": {}
      },
      "source": [
        "# evaluation\n",
        "x = range(start, limit, step)\n",
        "\n",
        "fig, ax1 = plt.subplots(figsize=(12,5))\n",
        "\n",
        "# coherence\n",
        "c1 = 'darkturquoise'\n",
        "ax1.plot(x, coherence_vals, 'o-', color=c1)\n",
        "ax1.set_xlabel('Num Topics')\n",
        "ax1.set_ylabel('Coherence', color=c1); ax1.tick_params('y', colors=c1)\n",
        "\n",
        "# perplexity\n",
        "c2 = 'slategray'\n",
        "ax2 = ax1.twinx()\n",
        "ax2.plot(x, perplexity_vals, 'o-', color=c2)\n",
        "ax2.set_ylabel('Perplexity', color=c2); ax2.tick_params('y', colors=c2)\n",
        "\n",
        "# Vis\n",
        "ax1.set_xticks(x)\n",
        "fig.tight_layout()\n",
        "plt.show()\n",
        "\n",
        "# save as png\n",
        "plt.savefig('metrics.png') "
      ],
      "execution_count": 0,
      "outputs": []
    }
  ]
}