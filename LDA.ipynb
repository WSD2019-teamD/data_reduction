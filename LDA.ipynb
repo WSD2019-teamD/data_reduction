{
 "cells": [
  {
   "cell_type": "markdown",
   "metadata": {},
   "source": [
    "http://tdual.hatenablog.com/entry/2018/04/09/133000\n",
    "\n",
    "LDAのコードを実装\n",
    "TODO::可視化のところの実装\n",
    "前のデータからちゃんとtagを持ってくる（突貫工事でlangを持ってきたものの、件数(種類)が多すぎるのかうまく表示できず）\n",
    "\n",
    "\n",
    "現在280件のデータ(半月分)からスコープを作成している\n"
   ]
  },
  {
   "cell_type": "code",
   "execution_count": 3,
   "metadata": {},
   "outputs": [],
   "source": [
    "from urllib import request \n",
    "import logging\n",
    "from pathlib import Path\n",
    "import numpy as np\n",
    "import re\n",
    "import MeCab\n",
    "import random\n",
    "from gensim import corpora, models"
   ]
  },
  {
   "cell_type": "code",
   "execution_count": 4,
   "metadata": {},
   "outputs": [],
   "source": [
    "res = request.urlopen(\"http://svn.sourceforge.jp/svnroot/slothlib/CSharp/Version1/SlothLib/NLP/Filter/StopWord/word/Japanese.txt\")\n",
    "stopwords = [line.decode(\"utf-8\").strip() for line in res]\n",
    "res = request.urlopen(\"http://svn.sourceforge.jp/svnroot/slothlib/CSharp/Version1/SlothLib/NLP/Filter/StopWord/word/English.txt\")\n",
    "stopwords += [line.decode(\"utf-8\").strip() for line in res]"
   ]
  },
  {
   "cell_type": "code",
   "execution_count": 5,
   "metadata": {},
   "outputs": [
    {
     "data": {
      "text/plain": [
       "910"
      ]
     },
     "execution_count": 5,
     "metadata": {},
     "output_type": "execute_result"
    }
   ],
   "source": [
    "len(stopwords)"
   ]
  },
  {
   "cell_type": "code",
   "execution_count": 6,
   "metadata": {},
   "outputs": [],
   "source": [
    "class Tokenizer:\n",
    "    def __init__(self, stopwords, parser=None, include_pos=None, exclude_posdetail=None, exclude_reg=None):\n",
    "    \n",
    "        self.stopwords = stopwords\n",
    "        self.include_pos = include_pos if include_pos else  [\"名詞\", \"動詞\", \"形容詞\"]\n",
    "        self.exclude_posdetail = exclude_posdetail if exclude_posdetail else [\"接尾\", \"数\"]\n",
    "        self.exclude_reg = exclude_reg if exclude_reg else r\"$^\"  # no matching reg\n",
    "        if parser:\n",
    "            self.parser = parser\n",
    "        else:\n",
    "            mecab = MeCab.Tagger(\"-Ochasen -d /usr/local/lib/mecab/dic/mecab-ipadic-neologd/\")\n",
    "            self.parser = mecab.parse\n",
    "            \n",
    "\n",
    "    def tokenize(self, text, show_pos=False):\n",
    "        text = re.sub(r\"https?://(?:[-\\w.]|(?:%[\\da-fA-F]{2}))+\", \"\", text)    #URL\n",
    "        text = re.sub(r\"\\\"?([-a-zA-Z0-9.`?{}]+\\.jp)\\\"?\" ,\"\", text)  # xxx.jp \n",
    "        text = text.lower()\n",
    "        l = [line.split(\"\\t\") for line in self.parser(text).split(\"\\n\")]\n",
    "        res = [\n",
    "            i[2] if not show_pos else (i[2],i[3]) for i in l \n",
    "                if len(i) >=4 # has POS.\n",
    "                    and i[3].split(\"-\")[0] in self.include_pos\n",
    "                    and i[3].split(\"-\")[1] not in self.exclude_posdetail\n",
    "                    and not re.search(r\"(-|−)\\d\", i[2])\n",
    "                    and not re.search(self.exclude_reg, i[2])\n",
    "                    and i[2] not in self.stopwords          \n",
    "            ]\n",
    "        return res\n",
    "\n"
   ]
  },
  {
   "cell_type": "code",
   "execution_count": 7,
   "metadata": {},
   "outputs": [],
   "source": [
    "import pandas as pd\n",
    "df_content = pd.read_csv('data/2018-07-15-content.csv')\n",
    "df_content.head(3)\n",
    "df_nonna = df_content[df_content['text'].isna() == False]\n",
    "df_nonna = df_nonna[df_nonna['lang'].isna() == False]"
   ]
  },
  {
   "cell_type": "code",
   "execution_count": 8,
   "metadata": {},
   "outputs": [
    {
     "data": {
      "text/html": [
       "<div>\n",
       "<style scoped>\n",
       "    .dataframe tbody tr th:only-of-type {\n",
       "        vertical-align: middle;\n",
       "    }\n",
       "\n",
       "    .dataframe tbody tr th {\n",
       "        vertical-align: top;\n",
       "    }\n",
       "\n",
       "    .dataframe thead th {\n",
       "        text-align: right;\n",
       "    }\n",
       "</style>\n",
       "<table border=\"1\" class=\"dataframe\">\n",
       "  <thead>\n",
       "    <tr style=\"text-align: right;\">\n",
       "      <th></th>\n",
       "      <th>Unnamed: 0</th>\n",
       "      <th>id</th>\n",
       "      <th>text</th>\n",
       "      <th>code-frame</th>\n",
       "      <th>lang</th>\n",
       "      <th>code</th>\n",
       "      <th>a-text</th>\n",
       "      <th>a-href</th>\n",
       "    </tr>\n",
       "  </thead>\n",
       "  <tbody>\n",
       "    <tr>\n",
       "      <th>0</th>\n",
       "      <td>0</td>\n",
       "      <td>1a7920d0dbc2099db000</td>\n",
       "      <td>はじめには、モックのサービスを作成して、実際にシナリオテストを実施してみました。今回は、テス...</td>\n",
       "      <td>Scenario: Normal def\\n\\n* def text = 'karate e...</td>\n",
       "      <td>cucumber,cucumber,cucumber,cucumber,cucumber,c...</td>\n",
       "      <td>def,print,match,\"\"\",jsonData,set,table,set,tab...</td>\n",
       "      <td>前回（#03 Writing Scenarios）,https://github.com/i...</td>\n",
       "      <td>#%E3%81%AF%E3%81%98%E3%82%81%E3%81%AB,https://...</td>\n",
       "    </tr>\n",
       "    <tr>\n",
       "      <th>1</th>\n",
       "      <td>1</td>\n",
       "      <td>5414e0beb7df9908949d</td>\n",
       "      <td>久々のQiita投稿です。淫夢記事しか投稿してないのはまずいかなと思ってまともな記事を1つシ...</td>\n",
       "      <td>\\n# # notepadの位置を確認\\n$ which notepad.exe\\n/mnt...</td>\n",
       "      <td>sh,sh</td>\n",
       "      <td>NaN</td>\n",
       "      <td>WSLのbashからWindowsの実行ファイルを実行する | yuipro</td>\n",
       "      <td>https://yuis-programming.com/2018/06/19/wsl%e3...</td>\n",
       "    </tr>\n",
       "    <tr>\n",
       "      <th>2</th>\n",
       "      <td>2</td>\n",
       "      <td>79679ad9911da6ea0309</td>\n",
       "      <td>私は現在、Scalaで書かれているわりと古めのゲーム用サーバーに、いろいろ機能追加したり不具...</td>\n",
       "      <td>command: findAndModify { findandmodify: \"chara...</td>\n",
       "      <td>js,text</td>\n",
       "      <td>var,findAndModify,findAndModify,findAndModify,...</td>\n",
       "      <td>Goでテストクライアントを書いたり,1,Goでテストクライアントを書くことで、安価なLinu...</td>\n",
       "      <td>https://qiita.com/yonezawaizumi/items/01384aad...</td>\n",
       "    </tr>\n",
       "  </tbody>\n",
       "</table>\n",
       "</div>"
      ],
      "text/plain": [
       "   Unnamed: 0                    id  \\\n",
       "0           0  1a7920d0dbc2099db000   \n",
       "1           1  5414e0beb7df9908949d   \n",
       "2           2  79679ad9911da6ea0309   \n",
       "\n",
       "                                                text  \\\n",
       "0  はじめには、モックのサービスを作成して、実際にシナリオテストを実施してみました。今回は、テス...   \n",
       "1  久々のQiita投稿です。淫夢記事しか投稿してないのはまずいかなと思ってまともな記事を1つシ...   \n",
       "2  私は現在、Scalaで書かれているわりと古めのゲーム用サーバーに、いろいろ機能追加したり不具...   \n",
       "\n",
       "                                          code-frame  \\\n",
       "0  Scenario: Normal def\\n\\n* def text = 'karate e...   \n",
       "1  \\n# # notepadの位置を確認\\n$ which notepad.exe\\n/mnt...   \n",
       "2  command: findAndModify { findandmodify: \"chara...   \n",
       "\n",
       "                                                lang  \\\n",
       "0  cucumber,cucumber,cucumber,cucumber,cucumber,c...   \n",
       "1                                              sh,sh   \n",
       "2                                            js,text   \n",
       "\n",
       "                                                code  \\\n",
       "0  def,print,match,\"\"\",jsonData,set,table,set,tab...   \n",
       "1                                                NaN   \n",
       "2  var,findAndModify,findAndModify,findAndModify,...   \n",
       "\n",
       "                                              a-text  \\\n",
       "0  前回（#03 Writing Scenarios）,https://github.com/i...   \n",
       "1             WSLのbashからWindowsの実行ファイルを実行する | yuipro   \n",
       "2  Goでテストクライアントを書いたり,1,Goでテストクライアントを書くことで、安価なLinu...   \n",
       "\n",
       "                                              a-href  \n",
       "0  #%E3%81%AF%E3%81%98%E3%82%81%E3%81%AB,https://...  \n",
       "1  https://yuis-programming.com/2018/06/19/wsl%e3...  \n",
       "2  https://qiita.com/yonezawaizumi/items/01384aad...  "
      ]
     },
     "execution_count": 8,
     "metadata": {},
     "output_type": "execute_result"
    }
   ],
   "source": [
    "df_content.head(3)"
   ]
  },
  {
   "cell_type": "code",
   "execution_count": 9,
   "metadata": {},
   "outputs": [
    {
     "data": {
      "text/plain": [
       "str"
      ]
     },
     "execution_count": 9,
     "metadata": {},
     "output_type": "execute_result"
    }
   ],
   "source": [
    "type(df_content['text'][0])"
   ]
  },
  {
   "cell_type": "code",
   "execution_count": 10,
   "metadata": {},
   "outputs": [
    {
     "data": {
      "text/plain": [
       "'aaa@xxx.com bbb@yyy.com ccc@zzz.com'"
      ]
     },
     "execution_count": 10,
     "metadata": {},
     "output_type": "execute_result"
    }
   ],
   "source": [
    "s = 'aaa@xxx.com bbb@yyy.com ccc@zzz.com'\n",
    "type(s)\n",
    "re.sub(r\"https?://(?:[-\\w.]|(?:%[\\da-fA-F]{2}))+\", \"\", s)    #URL"
   ]
  },
  {
   "cell_type": "code",
   "execution_count": 21,
   "metadata": {},
   "outputs": [],
   "source": [
    "mecab = MeCab.Tagger(\"-Ochasen -d /usr/local/lib/mecab/dic/mecab-ipadic-neologd/\")\n",
    "t = Tokenizer(stopwords + [\"…。\"] , mecab.parse, exclude_reg=r\"\\d(年|月|日)\")\n",
    "\n",
    "\n",
    "docs = []\n",
    "\n",
    "\n",
    "for texts in df_nonna['text']:\n",
    "#     if(len(docs) > 50):\n",
    "#         break\n",
    "    docs.append(t.tokenize(texts))\n",
    "    \n",
    "    \n",
    "# for a in articles:\n",
    "#     with a.open() as f:\n",
    "#         f.readline()\n",
    "#         f.readline()\n",
    "#         docs.append(tokenize(f.read()))"
   ]
  },
  {
   "cell_type": "code",
   "execution_count": 22,
   "metadata": {},
   "outputs": [
    {
     "name": "stderr",
     "output_type": "stream",
     "text": [
      "adding document #0 to Dictionary(0 unique tokens: [])\n",
      "built Dictionary(33191 unique tokens: ['API', 'CLASSPATH', 'JSON', 'demo', 'feature']...) from 2790 documents (total 642178 corpus positions)\n"
     ]
    }
   ],
   "source": [
    "d = corpora.Dictionary(docs)"
   ]
  },
  {
   "cell_type": "code",
   "execution_count": 23,
   "metadata": {
    "scrolled": false
   },
   "outputs": [
    {
     "name": "stdout",
     "output_type": "stream",
     "text": [
      "謎\n",
      "1000\n"
     ]
    }
   ],
   "source": [
    "print(d[1000])\n",
    "print(d.token2id['謎'])"
   ]
  },
  {
   "cell_type": "markdown",
   "metadata": {},
   "source": [
    "使われている文書の数がno_belowより少ない単語を無視し、no_aboveの割合以上の文書に出てくる単語を無視しています。\n",
    "また、compactifyでIDを振り直してコンパクトにする"
   ]
  },
  {
   "cell_type": "code",
   "execution_count": 24,
   "metadata": {},
   "outputs": [
    {
     "name": "stderr",
     "output_type": "stream",
     "text": [
      "discarding 26724 tokens: [('karate', 1), ('ある', 1829), ('いる', 2090), ('おく', 805), ('くださる', 689), ('する', 2648), ('できる', 1790), ('なる', 1816), ('の', 1620), ('みる', 1241)]...\n",
      "keeping 6467 tokens which were in no less than 5 and no more than 558 (=20.0%) documents\n",
      "resulting dictionary: Dictionary(6467 unique tokens: ['API', 'CLASSPATH', 'JSON', 'demo', 'feature']...)\n"
     ]
    }
   ],
   "source": [
    "d.filter_extremes(no_below=5, no_above=0.2)\n",
    "d.compactify()"
   ]
  },
  {
   "cell_type": "code",
   "execution_count": 25,
   "metadata": {},
   "outputs": [],
   "source": [
    "corpus = [d.doc2bow(w) for w in docs]\n",
    "test_size = int(len(corpus) * 0.1)\n",
    "test_corpus = corpus[:test_size]\n",
    "train_corpus = corpus[test_size:]"
   ]
  },
  {
   "cell_type": "code",
   "execution_count": 26,
   "metadata": {},
   "outputs": [],
   "source": [
    "logging.basicConfig(format='%(message)s', level=logging.INFO)"
   ]
  },
  {
   "cell_type": "markdown",
   "metadata": {},
   "source": [
    "## 学習させる\n"
   ]
  },
  {
   "cell_type": "code",
   "execution_count": 27,
   "metadata": {
    "scrolled": false
   },
   "outputs": [
    {
     "name": "stderr",
     "output_type": "stream",
     "text": [
      "using symmetric alpha at 0.02\n",
      "using symmetric eta at 0.02\n",
      "using serial LDA version on this node\n",
      "running online (multi-pass) LDA training, 50 topics, 10 passes over the supplied corpus of 2790 documents, updating model once every 2000 documents, evaluating perplexity every 2790 documents, iterating 50x with a convergence threshold of 0.001000\n",
      "PROGRESS: pass 0, at document #2000/2790\n",
      "merging changes from 2000 documents into a model of 2790 documents\n",
      "topic #1 (0.020): 0.010*\"クラス\" + 0.010*\"関数\" + 0.008*\"モデル\" + 0.006*\"実装\" + 0.005*\"変数\" + 0.005*\"プログラム\" + 0.005*\"画面\" + 0.004*\"引数\" + 0.004*\"予測\" + 0.004*\"部分\"\n",
      "topic #17 (0.020): 0.021*\"要素\" + 0.013*\"疎い\" + 0.007*\"配列\" + 0.007*\"選択\" + 0.007*\"値\" + 0.006*\"実装\" + 0.005*\"状態\" + 0.005*\"undefined\" + 0.005*\"命令\" + 0.004*\"UNITY\"\n",
      "topic #4 (0.020): 0.010*\"関数\" + 0.008*\"定義\" + 0.007*\"出力\" + 0.005*\"テスト\" + 0.005*\"要素\" + 0.004*\"引数\" + 0.004*\"良い\" + 0.004*\"値\" + 0.004*\"対応\" + 0.004*\"参照\"\n",
      "topic #28 (0.020): 0.016*\"命令\" + 0.010*\"レジスタ\" + 0.008*\"bit\" + 0.007*\"クラス\" + 0.006*\"小数点\" + 0.006*\"モデル\" + 0.006*\"オペランド\" + 0.005*\"学習\" + 0.005*\"メソッド\" + 0.005*\"浮動\"\n",
      "topic #43 (0.020): 0.007*\"関数\" + 0.006*\"計算\" + 0.005*\"プログラム\" + 0.005*\"レート\" + 0.004*\"値\" + 0.004*\"起動\" + 0.004*\"考える\" + 0.004*\"学習\" + 0.004*\"動作\" + 0.004*\"内部\"\n",
      "topic diff=13.322290, rho=1.000000\n",
      "-9.490 per-word bound, 719.2 perplexity estimate based on a held-out corpus of 790 documents with 105477 words\n",
      "PROGRESS: pass 0, at document #2790/2790\n",
      "merging changes from 790 documents into a model of 2790 documents\n",
      "topic #18 (0.020): 0.020*\"画像\" + 0.011*\"出力\" + 0.011*\"検知\" + 0.009*\"関数\" + 0.007*\"生成\" + 0.007*\"モデル\" + 0.007*\"R2\" + 0.006*\"モック\" + 0.005*\"チェック\" + 0.005*\"圧縮\"\n",
      "topic #11 (0.020): 0.021*\"状態\" + 0.017*\"価値\" + 0.016*\"関数\" + 0.012*\"報酬\" + 0.012*\"行動\" + 0.011*\"PI\" + 0.009*\"方策\" + 0.008*\"グラフ\" + 0.006*\"定義\" + 0.006*\"メソッド\"\n",
      "topic #10 (0.020): 0.013*\"命令\" + 0.008*\"アセンブラ\" + 0.008*\"ブロック\" + 0.007*\"日時\" + 0.006*\"height\" + 0.006*\"実装\" + 0.006*\"SLACK\" + 0.006*\"プログラム\" + 0.005*\"操作\" + 0.005*\"起動\"\n",
      "topic #25 (0.020): 0.009*\"TO\" + 0.008*\"service\" + 0.006*\"確率\" + 0.006*\"API\" + 0.006*\"命令\" + 0.005*\"実装\" + 0.004*\"IS\" + 0.004*\"計算\" + 0.004*\"良い\" + 0.004*\"採用\"\n",
      "topic #19 (0.020): 0.014*\"列挙\" + 0.010*\"docker\" + 0.009*\"alpine\" + 0.009*\"デフォ\" + 0.008*\"コンテナ\" + 0.007*\"chromedriver\" + 0.007*\"出力\" + 0.007*\"sudo\" + 0.006*\"幅\" + 0.006*\"イメージ\"\n",
      "topic diff=5.035192, rho=0.707107\n",
      "PROGRESS: pass 1, at document #2000/2790\n",
      "merging changes from 2000 documents into a model of 2790 documents\n",
      "topic #48 (0.020): 0.008*\"選択\" + 0.008*\"定義\" + 0.008*\"パッケージ\" + 0.008*\"起動\" + 0.007*\"開く\" + 0.006*\"ディレクトリ\" + 0.005*\"移動\" + 0.005*\"ライブラリ\" + 0.005*\"キー\" + 0.005*\"ノード\"\n",
      "topic #32 (0.020): 0.024*\"接続\" + 0.013*\"python\" + 0.012*\"起動\" + 0.010*\"Raspberry Pi\" + 0.009*\"仮想\" + 0.009*\"SSH\" + 0.008*\"ボタン\" + 0.008*\"anaconda\" + 0.008*\"ネットワーク\" + 0.008*\"A3\"\n",
      "topic #47 (0.020): 0.031*\"実装\" + 0.010*\"画面\" + 0.009*\"デフォルト\" + 0.008*\"座標\" + 0.005*\"入力\" + 0.005*\"情報\" + 0.005*\"メソッド\" + 0.005*\"サーバー\" + 0.005*\"マップ\" + 0.005*\"考える\"\n",
      "topic #27 (0.020): 0.017*\"要素\" + 0.015*\"読み込む\" + 0.014*\"SWAGGER\" + 0.012*\"jQuery\" + 0.011*\"HTML\" + 0.010*\"準拠\" + 0.010*\"ログ\" + 0.010*\"python\" + 0.008*\"SAS\" + 0.007*\"pub\"\n",
      "topic #25 (0.020): 0.017*\"service\" + 0.014*\"IFTTT\" + 0.013*\"確率\" + 0.011*\"TO\" + 0.011*\"API\" + 0.006*\"Enter\" + 0.006*\"URL\" + 0.006*\"予測\" + 0.005*\"IS\" + 0.005*\"映画\"\n",
      "topic diff=3.957296, rho=0.542725\n",
      "-8.395 per-word bound, 336.6 perplexity estimate based on a held-out corpus of 790 documents with 105477 words\n",
      "PROGRESS: pass 1, at document #2790/2790\n",
      "merging changes from 790 documents into a model of 2790 documents\n",
      "topic #44 (0.020): 0.014*\"コンポーネント\" + 0.014*\"クラス\" + 0.010*\"エラー\" + 0.010*\"実装\" + 0.010*\"メソッド\" + 0.010*\"引数\" + 0.007*\"認証\" + 0.007*\"ん\" + 0.007*\"定義\" + 0.006*\"Perl\"\n",
      "topic #42 (0.020): 0.037*\"クラス\" + 0.013*\"デプロイ\" + 0.011*\"deploy\" + 0.009*\"機能\" + 0.009*\"deployment\" + 0.008*\"配置\" + 0.007*\"メソッド\" + 0.007*\"権限\" + 0.006*\"定義\" + 0.006*\"DEP\"\n",
      "topic #4 (0.020): 0.014*\"出力\" + 0.014*\"定義\" + 0.011*\"関数\" + 0.008*\"引数\" + 0.007*\"渡す\" + 0.007*\"記述\" + 0.006*\"くれる\" + 0.006*\"変数\" + 0.006*\"良い\" + 0.006*\"言語\"\n",
      "topic #43 (0.020): 0.051*\"計算\" + 0.017*\"GPU\" + 0.014*\"誤差\" + 0.013*\"プログラム\" + 0.012*\"関数\" + 0.012*\"微分\" + 0.011*\"CUDA\" + 0.010*\"NumPy\" + 0.010*\"python\" + 0.009*\"反復\"\n",
      "topic #22 (0.020): 0.104*\"テスト\" + 0.016*\"メソッド\" + 0.009*\"実装\" + 0.008*\"定義\" + 0.008*\"関数\" + 0.007*\"LOOP\" + 0.007*\"対象\" + 0.007*\"クラス\" + 0.006*\"生成\" + 0.006*\"検証\"\n",
      "topic diff=4.139428, rho=0.542725\n",
      "PROGRESS: pass 2, at document #2000/2790\n",
      "merging changes from 2000 documents into a model of 2790 documents\n",
      "topic #11 (0.020): 0.036*\"状態\" + 0.027*\"関数\" + 0.025*\"行動\" + 0.021*\"グラフ\" + 0.021*\"価値\" + 0.020*\"PI\" + 0.018*\"エージェント\" + 0.014*\"報酬\" + 0.013*\"方策\" + 0.009*\"確率\"\n",
      "topic #1 (0.020): 0.020*\"モデル\" + 0.015*\"関数\" + 0.010*\"クラス\" + 0.009*\"変数\" + 0.008*\"計算\" + 0.007*\"定義\" + 0.007*\"考える\" + 0.006*\"分析\" + 0.006*\"予測\" + 0.006*\"平均\"\n",
      "topic #28 (0.020): 0.068*\"命令\" + 0.041*\"レジスタ\" + 0.031*\"bit\" + 0.026*\"オペランド\" + 0.020*\"小数点\" + 0.020*\"浮動\" + 0.016*\"例外\" + 0.013*\"パック\" + 0.012*\"メモリ\" + 0.012*\"整数\"\n",
      "topic #42 (0.020): 0.044*\"クラス\" + 0.016*\"デプロイ\" + 0.012*\"deploy\" + 0.011*\"機能\" + 0.010*\"抽象\" + 0.007*\"メソッド\" + 0.007*\"deployment\" + 0.006*\"実装\" + 0.006*\"定義\" + 0.006*\"配置\"\n",
      "topic #43 (0.020): 0.061*\"計算\" + 0.018*\"GPU\" + 0.017*\"レート\" + 0.017*\"プログラム\" + 0.014*\"内部\" + 0.013*\"NumPy\" + 0.012*\"関数\" + 0.012*\"誤差\" + 0.011*\"CUDA\" + 0.011*\"python\"\n",
      "topic diff=3.319250, rho=0.477002\n",
      "-8.006 per-word bound, 257.1 perplexity estimate based on a held-out corpus of 790 documents with 105477 words\n",
      "PROGRESS: pass 2, at document #2790/2790\n",
      "merging changes from 790 documents into a model of 2790 documents\n",
      "topic #25 (0.020): 0.030*\"service\" + 0.017*\"API\" + 0.015*\"確率\" + 0.013*\"IFTTT\" + 0.009*\"クリエイト\" + 0.008*\"採用\" + 0.008*\"TO\" + 0.008*\"URL\" + 0.008*\".S\" + 0.007*\"grpc\"\n",
      "topic #28 (0.020): 0.066*\"命令\" + 0.042*\"レジスタ\" + 0.029*\"bit\" + 0.024*\"オペランド\" + 0.019*\"小数点\" + 0.018*\"浮動\" + 0.015*\"例外\" + 0.012*\"メモリ\" + 0.012*\"パック\" + 0.012*\"フラグ\"\n",
      "topic #29 (0.020): 0.018*\"センサー\" + 0.014*\"LED\" + 0.014*\"値\" + 0.011*\"探索\" + 0.010*\"pin\" + 0.010*\"文字列\" + 0.009*\"関数\" + 0.009*\"low\" + 0.009*\"送信\" + 0.008*\"数値\"\n",
      "topic #16 (0.020): 0.032*\"問題\" + 0.029*\"特徴\" + 0.020*\"キャッシュ\" + 0.014*\"有効\" + 0.013*\"期限\" + 0.011*\"変数\" + 0.011*\"AtCoder\" + 0.010*\"値\" + 0.010*\"プログラム\" + 0.010*\"コンテスト\"\n",
      "topic #30 (0.020): 0.025*\"単語\" + 0.024*\"IOT\" + 0.022*\"ルール\" + 0.013*\"シェルスクリプト\" + 0.010*\"id\" + 0.010*\"ブランチ\" + 0.009*\"文字\" + 0.009*\"辞書\" + 0.009*\"出来る\" + 0.007*\"教師\"\n",
      "topic diff=2.976555, rho=0.477002\n",
      "PROGRESS: pass 3, at document #2000/2790\n",
      "merging changes from 2000 documents into a model of 2790 documents\n",
      "topic #36 (0.020): 0.034*\"Vue\" + 0.034*\"JS\" + 0.020*\"アカウント\" + 0.014*\"テンプレート\" + 0.012*\"トランザクション\" + 0.010*\"alb\" + 0.008*\"値\" + 0.008*\"送る\" + 0.007*\"対応\" + 0.007*\"id\"\n",
      "topic #3 (0.020): 0.047*\"温度\" + 0.037*\"case\" + 0.024*\"partial\" + 0.023*\"frac\" + 0.023*\"host\" + 0.019*\"一致\" + 0.018*\"消去\" + 0.018*\"関数\" + 0.018*\"int\" + 0.017*\"定義\"\n",
      "topic #29 (0.020): 0.016*\"センサー\" + 0.013*\"LED\" + 0.013*\"探索\" + 0.013*\"値\" + 0.012*\"pin\" + 0.011*\"ペア\" + 0.008*\"アルゴリズム\" + 0.008*\"送信\" + 0.007*\"文字列\" + 0.007*\"関数\"\n",
      "topic #22 (0.020): 0.112*\"テスト\" + 0.015*\"メソッド\" + 0.011*\"実装\" + 0.011*\"対象\" + 0.010*\"定義\" + 0.009*\"関数\" + 0.008*\"フィールド\" + 0.008*\"クラス\" + 0.007*\"生成\" + 0.007*\"検証\"\n",
      "topic #19 (0.020): 0.020*\"列挙\" + 0.015*\"デバイス\" + 0.013*\"selenium\" + 0.012*\"chrome\" + 0.011*\"動作\" + 0.011*\"サイズ\" + 0.011*\"Edition\" + 0.010*\"JA\" + 0.009*\"出力\" + 0.009*\"date\"\n",
      "topic diff=2.269395, rho=0.430531\n",
      "-7.810 per-word bound, 224.5 perplexity estimate based on a held-out corpus of 790 documents with 105477 words\n",
      "PROGRESS: pass 3, at document #2790/2790\n",
      "merging changes from 790 documents into a model of 2790 documents\n",
      "topic #4 (0.020): 0.019*\"出力\" + 0.015*\"定義\" + 0.010*\"関数\" + 0.010*\"引数\" + 0.009*\"渡す\" + 0.009*\"記述\" + 0.008*\"言語\" + 0.008*\"くれる\" + 0.007*\"良い\" + 0.007*\"変数\"\n",
      "topic #39 (0.020): 0.020*\"AWS\" + 0.014*\"起動\" + 0.012*\"ユーザー\" + 0.012*\"サービス\" + 0.012*\"db\" + 0.011*\"アクセス\" + 0.010*\"コンテナ\" + 0.009*\"権限\" + 0.009*\"MySQL\" + 0.008*\"ログイン\"\n",
      "topic #22 (0.020): 0.131*\"テスト\" + 0.016*\"メソッド\" + 0.012*\"実装\" + 0.010*\"自動\" + 0.010*\"対象\" + 0.009*\"定義\" + 0.008*\"生成\" + 0.008*\"クラス\" + 0.008*\"LOOP\" + 0.008*\"関数\"\n",
      "topic #15 (0.020): 0.022*\"プロジェクト\" + 0.015*\"ビルド\" + 0.013*\"開発\" + 0.013*\"バージョン\" + 0.011*\"アプリ\" + 0.011*\"起動\" + 0.010*\"アプリケーション\" + 0.008*\"開く\" + 0.007*\"選択\" + 0.007*\"python\"\n",
      "topic #49 (0.020): 0.028*\"制約\" + 0.023*\"カラム\" + 0.021*\"ドメイン\" + 0.020*\"SSL\" + 0.018*\"レコード\" + 0.018*\"price\" + 0.016*\"証明書\" + 0.015*\"値\" + 0.014*\"HTTPS\" + 0.014*\"Null\"\n",
      "topic diff=1.916844, rho=0.430531\n"
     ]
    },
    {
     "name": "stderr",
     "output_type": "stream",
     "text": [
      "PROGRESS: pass 4, at document #2000/2790\n",
      "merging changes from 2000 documents into a model of 2790 documents\n",
      "topic #0 (0.020): 0.095*\"モジュール\" + 0.035*\"CSV\" + 0.021*\"信号\" + 0.019*\"出力\" + 0.018*\"エクセル\" + 0.016*\"リ\" + 0.016*\"ダウンロード\" + 0.015*\"スクリプト\" + 0.014*\"入出力\" + 0.013*\"入力\"\n",
      "topic #28 (0.020): 0.073*\"命令\" + 0.042*\"レジスタ\" + 0.033*\"bit\" + 0.027*\"オペランド\" + 0.021*\"小数点\" + 0.020*\"浮動\" + 0.018*\"例外\" + 0.014*\"メモリ\" + 0.014*\"整数\" + 0.013*\"パック\"\n",
      "topic #17 (0.020): 0.125*\"要素\" + 0.054*\"配列\" + 0.025*\"疎い\" + 0.022*\"インデックス\" + 0.018*\"DB2\" + 0.016*\"width\" + 0.016*\"幅\" + 0.014*\"undefined\" + 0.014*\"高さ\" + 0.013*\"ジョブ\"\n",
      "topic #39 (0.020): 0.022*\"AWS\" + 0.015*\"起動\" + 0.014*\"ユーザー\" + 0.013*\"db\" + 0.011*\"アクセス\" + 0.011*\"サービス\" + 0.009*\"権限\" + 0.009*\"コンテナ\" + 0.008*\"ログイン\" + 0.008*\"iam\"\n",
      "topic #16 (0.020): 0.041*\"問題\" + 0.022*\"キャッシュ\" + 0.021*\"特徴\" + 0.015*\"パフォーマンス\" + 0.014*\"コンテスト\" + 0.014*\"有効\" + 0.013*\"AtCoder\" + 0.012*\"プログラム\" + 0.012*\"値\" + 0.011*\"期限\"\n",
      "topic diff=1.463144, rho=0.395439\n",
      "-7.699 per-word bound, 207.8 perplexity estimate based on a held-out corpus of 790 documents with 105477 words\n",
      "PROGRESS: pass 4, at document #2790/2790\n",
      "merging changes from 790 documents into a model of 2790 documents\n",
      "topic #3 (0.020): 0.051*\"温度\" + 0.042*\"frac\" + 0.034*\"partial\" + 0.034*\"case\" + 0.027*\"定義\" + 0.022*\"消去\" + 0.022*\"int\" + 0.021*\"関数\" + 0.020*\"一致\" + 0.019*\"Left\"\n",
      "topic #32 (0.020): 0.054*\"接続\" + 0.019*\"SSH\" + 0.017*\"ネットワーク\" + 0.017*\"python\" + 0.016*\"仮想\" + 0.014*\"A3\" + 0.013*\"サーバー\" + 0.013*\"anaconda\" + 0.013*\"起動\" + 0.012*\"ボタン\"\n",
      "topic #17 (0.020): 0.123*\"要素\" + 0.051*\"配列\" + 0.029*\"DB2\" + 0.022*\"インデックス\" + 0.019*\"幅\" + 0.017*\"疎い\" + 0.017*\"ジョブ\" + 0.016*\"width\" + 0.015*\"高さ\" + 0.012*\"PX\"\n",
      "topic #9 (0.020): 0.080*\"TO\" + 0.043*\"IS\" + 0.042*\"AND\" + 0.035*\"YOU\" + 0.015*\"WITH\" + 0.015*\"ON\" + 0.013*\"It\" + 0.013*\"data\" + 0.013*\"set\" + 0.012*\"BY\"\n",
      "topic #25 (0.020): 0.040*\"service\" + 0.022*\"API\" + 0.018*\"確率\" + 0.017*\"IFTTT\" + 0.012*\"クリエイト\" + 0.011*\"URL\" + 0.010*\"採用\" + 0.010*\"Enter\" + 0.010*\".S\" + 0.009*\"activity\"\n",
      "topic diff=1.222597, rho=0.395439\n",
      "PROGRESS: pass 5, at document #2000/2790\n",
      "merging changes from 2000 documents into a model of 2790 documents\n",
      "topic #36 (0.020): 0.043*\"JS\" + 0.037*\"Vue\" + 0.020*\"アカウント\" + 0.017*\"テンプレート\" + 0.012*\"トランザクション\" + 0.010*\"alb\" + 0.009*\"メッセージ\" + 0.009*\"送る\" + 0.009*\"API\" + 0.008*\"値\"\n",
      "topic #4 (0.020): 0.023*\"出力\" + 0.015*\"定義\" + 0.010*\"関数\" + 0.010*\"引数\" + 0.010*\"渡す\" + 0.010*\"くれる\" + 0.009*\"言語\" + 0.008*\"記述\" + 0.008*\"良い\" + 0.007*\"変数\"\n",
      "topic #49 (0.020): 0.030*\"カラム\" + 0.030*\"ドメイン\" + 0.028*\"レコード\" + 0.024*\"制約\" + 0.019*\"SSL\" + 0.018*\"HTTPS\" + 0.018*\"証明書\" + 0.016*\"発行\" + 0.014*\"値\" + 0.012*\"テーブル\"\n",
      "topic #11 (0.020): 0.046*\"状態\" + 0.034*\"関数\" + 0.027*\"行動\" + 0.025*\"グラフ\" + 0.024*\"価値\" + 0.023*\"PI\" + 0.020*\"エージェント\" + 0.015*\"報酬\" + 0.014*\"方策\" + 0.012*\"確率\"\n",
      "topic #7 (0.020): 0.018*\"デフォルト\" + 0.017*\"URL\" + 0.012*\"配列\" + 0.011*\"返す\" + 0.011*\"id\" + 0.010*\"API\" + 0.010*\"文字列\" + 0.010*\"LINE\" + 0.010*\"アクセス\" + 0.010*\"エントリ\"\n",
      "topic diff=0.957883, rho=0.367732\n",
      "-7.629 per-word bound, 197.9 perplexity estimate based on a held-out corpus of 790 documents with 105477 words\n",
      "PROGRESS: pass 5, at document #2790/2790\n",
      "merging changes from 790 documents into a model of 2790 documents\n",
      "topic #36 (0.020): 0.043*\"JS\" + 0.037*\"Vue\" + 0.019*\"アカウント\" + 0.016*\"テンプレート\" + 0.015*\"alb\" + 0.012*\"トランザクション\" + 0.010*\"メッセージ\" + 0.010*\"circleci\" + 0.009*\"API\" + 0.009*\"JavaScript\"\n",
      "topic #34 (0.020): 0.015*\"CSS\" + 0.012*\"ライブラリ\" + 0.012*\"スタイル\" + 0.010*\"JS\" + 0.010*\"graphql\" + 0.008*\"リスト\" + 0.007*\"FRAMeWORK\" + 0.007*\"使える\" + 0.007*\"持つ\" + 0.006*\"タップ\"\n",
      "topic #3 (0.020): 0.050*\"温度\" + 0.044*\"frac\" + 0.034*\"partial\" + 0.034*\"case\" + 0.029*\"定義\" + 0.023*\"int\" + 0.022*\"消去\" + 0.022*\"関数\" + 0.020*\"一致\" + 0.020*\"量\"\n",
      "topic #24 (0.020): 0.034*\"文字\" + 0.032*\"文字列\" + 0.018*\"HTML\" + 0.015*\"()\" + 0.014*\"関数\" + 0.013*\"生成\" + 0.008*\"用意\" + 0.008*\"部分\" + 0.008*\"正規表現\" + 0.007*\"変換\"\n",
      "topic #15 (0.020): 0.024*\"プロジェクト\" + 0.015*\"ビルド\" + 0.015*\"開発\" + 0.013*\"アプリ\" + 0.013*\"バージョン\" + 0.012*\"起動\" + 0.011*\"アプリケーション\" + 0.009*\"選択\" + 0.008*\"windows\" + 0.008*\"開く\"\n",
      "topic diff=0.808675, rho=0.367732\n",
      "PROGRESS: pass 6, at document #2000/2790\n",
      "merging changes from 2000 documents into a model of 2790 documents\n",
      "topic #39 (0.020): 0.024*\"AWS\" + 0.016*\"ユーザー\" + 0.014*\"db\" + 0.014*\"起動\" + 0.012*\"サービス\" + 0.012*\"アクセス\" + 0.011*\"権限\" + 0.010*\"ログイン\" + 0.009*\"MySQL\" + 0.009*\"iam\"\n",
      "topic #29 (0.020): 0.019*\"センサー\" + 0.017*\"LED\" + 0.016*\"値\" + 0.014*\"探索\" + 0.013*\"pin\" + 0.012*\"ペア\" + 0.010*\"アルゴリズム\" + 0.008*\"送信\" + 0.007*\"タイム\" + 0.007*\"low\"\n",
      "topic #38 (0.020): 0.026*\"条件\" + 0.015*\"Twitter\" + 0.013*\"tweet\" + 0.013*\"MySQL\" + 0.012*\"gem\" + 0.012*\"ReTweet\" + 0.010*\"component\" + 0.010*\"勉強\" + 0.008*\"読む\" + 0.008*\"いう\"\n",
      "topic #44 (0.020): 0.018*\"コンポーネント\" + 0.014*\"エラー\" + 0.014*\"実装\" + 0.012*\"クラス\" + 0.011*\"ん\" + 0.008*\"定義\" + 0.008*\"引数\" + 0.008*\"メソッド\" + 0.007*\"コメント\" + 0.006*\"出る\"\n",
      "topic #33 (0.020): 0.071*\"ログ\" + 0.044*\"コミット\" + 0.035*\"イベント\" + 0.028*\"Folder\" + 0.019*\"log\" + 0.017*\"INTERFACE\" + 0.015*\"LAN\" + 0.015*\"削除\" + 0.014*\"撮影\" + 0.013*\"空\"\n",
      "topic diff=0.654805, rho=0.345136\n",
      "-7.581 per-word bound, 191.5 perplexity estimate based on a held-out corpus of 790 documents with 105477 words\n",
      "PROGRESS: pass 6, at document #2790/2790\n",
      "merging changes from 790 documents into a model of 2790 documents\n",
      "topic #7 (0.020): 0.025*\"エントリ\" + 0.018*\"デフォルト\" + 0.017*\"URL\" + 0.011*\"数値\" + 0.011*\"id\" + 0.011*\"文字列\" + 0.010*\"LINE\" + 0.010*\"定義\" + 0.010*\"返す\" + 0.010*\"トークン\"\n",
      "topic #10 (0.020): 0.035*\"SLACK\" + 0.034*\"プログラム\" + 0.024*\"アセンブラ\" + 0.020*\"cpu\" + 0.016*\"通知\" + 0.013*\"実装\" + 0.011*\"日時\" + 0.011*\"カスタム\" + 0.011*\"チーム\" + 0.010*\"記述\"\n",
      "topic #32 (0.020): 0.056*\"接続\" + 0.023*\"SSH\" + 0.017*\"サーバー\" + 0.017*\"ネットワーク\" + 0.016*\"仮想\" + 0.015*\"python\" + 0.014*\"起動\" + 0.013*\"A3\" + 0.013*\"anaconda\" + 0.013*\"デバイス\"\n",
      "topic #22 (0.020): 0.143*\"テスト\" + 0.015*\"メソッド\" + 0.014*\"自動\" + 0.014*\"実装\" + 0.012*\"対象\" + 0.010*\"生成\" + 0.009*\"クラス\" + 0.008*\"定義\" + 0.008*\"Clova\" + 0.008*\"CI\"\n",
      "topic #9 (0.020): 0.084*\"TO\" + 0.045*\"AND\" + 0.045*\"IS\" + 0.035*\"YOU\" + 0.016*\"ON\" + 0.016*\"WITH\" + 0.014*\"set\" + 0.014*\"It\" + 0.013*\"BY\" + 0.013*\"data\"\n",
      "topic diff=0.562782, rho=0.345136\n",
      "PROGRESS: pass 7, at document #2000/2790\n",
      "merging changes from 2000 documents into a model of 2790 documents\n",
      "topic #32 (0.020): 0.055*\"接続\" + 0.025*\"SSH\" + 0.018*\"サーバー\" + 0.016*\"ネットワーク\" + 0.015*\"起動\" + 0.015*\"仮想\" + 0.014*\"anaconda\" + 0.014*\"python\" + 0.013*\"ボタン\" + 0.013*\"デバイス\"\n",
      "topic #16 (0.020): 0.045*\"問題\" + 0.023*\"キャッシュ\" + 0.022*\"特徴\" + 0.016*\"有効\" + 0.016*\"パフォーマンス\" + 0.015*\"出来る\" + 0.013*\"コンテスト\" + 0.012*\"プログラム\" + 0.012*\"AtCoder\" + 0.011*\"値\"\n",
      "topic #26 (0.020): 0.021*\"検索\" + 0.015*\"サイト\" + 0.010*\"タグ\" + 0.009*\"複数\" + 0.009*\"コンテンツ\" + 0.008*\"HTML\" + 0.007*\"CSS\" + 0.007*\"origin\" + 0.007*\"パス\" + 0.007*\"属性\"\n",
      "topic #47 (0.020): 0.037*\"実装\" + 0.015*\"画面\" + 0.011*\"座標\" + 0.008*\"入力\" + 0.007*\"ボタン\" + 0.006*\"マップ\" + 0.006*\"画像\" + 0.006*\"クリック\" + 0.006*\"アプリ\" + 0.006*\"デフォルト\"\n",
      "topic #28 (0.020): 0.074*\"命令\" + 0.043*\"レジスタ\" + 0.034*\"bit\" + 0.027*\"オペランド\" + 0.021*\"小数点\" + 0.020*\"浮動\" + 0.018*\"例外\" + 0.015*\"メモリ\" + 0.014*\"整数\" + 0.013*\"パック\"\n",
      "topic diff=0.470199, rho=0.326251\n",
      "-7.547 per-word bound, 187.0 perplexity estimate based on a held-out corpus of 790 documents with 105477 words\n",
      "PROGRESS: pass 7, at document #2790/2790\n",
      "merging changes from 790 documents into a model of 2790 documents\n",
      "topic #47 (0.020): 0.037*\"実装\" + 0.014*\"画面\" + 0.010*\"座標\" + 0.008*\"入力\" + 0.007*\"コントローラ\" + 0.007*\"地図\" + 0.006*\"ボタン\" + 0.006*\"アプリ\" + 0.006*\"画像\" + 0.005*\"簡単\"\n",
      "topic #41 (0.020): 0.033*\"関数\" + 0.015*\"値\" + 0.015*\"リクエスト\" + 0.011*\"定義\" + 0.009*\"JavaScript\" + 0.009*\"変数\" + 0.009*\"代入\" + 0.008*\"記述\" + 0.008*\"スクリプト\" + 0.008*\"返す\"\n",
      "topic #37 (0.020): 0.024*\"ディレクトリ\" + 0.013*\"ファイル名\" + 0.008*\"保存\" + 0.008*\"引数\" + 0.008*\"再生\" + 0.008*\"パス\" + 0.008*\"リスト\" + 0.007*\"含む\" + 0.007*\"()\" + 0.007*\"変換\"\n",
      "topic #11 (0.020): 0.050*\"状態\" + 0.035*\"関数\" + 0.029*\"価値\" + 0.025*\"行動\" + 0.023*\"PI\" + 0.021*\"グラフ\" + 0.017*\"報酬\" + 0.016*\"エージェント\" + 0.015*\"方策\" + 0.013*\"確率\"\n",
      "topic #25 (0.020): 0.045*\"service\" + 0.026*\"API\" + 0.019*\"IFTTT\" + 0.018*\"確率\" + 0.014*\"クリエイト\" + 0.013*\"URL\" + 0.012*\"grpc\" + 0.012*\"Enter\" + 0.011*\".S\" + 0.010*\"server\"\n",
      "topic diff=0.412360, rho=0.326251\n",
      "PROGRESS: pass 8, at document #2000/2790\n",
      "merging changes from 2000 documents into a model of 2790 documents\n",
      "topic #49 (0.020): 0.041*\"カラム\" + 0.037*\"ドメイン\" + 0.036*\"レコード\" + 0.026*\"HTTPS\" + 0.024*\"テーブル\" + 0.022*\"制約\" + 0.019*\"SSL\" + 0.017*\"証明書\" + 0.016*\"値\" + 0.014*\"発行\"\n"
     ]
    },
    {
     "name": "stderr",
     "output_type": "stream",
     "text": [
      "topic #12 (0.020): 0.019*\"画面\" + 0.016*\"更新\" + 0.016*\"項目\" + 0.016*\"ユーザ\" + 0.015*\"id\" + 0.015*\"テーブル\" + 0.014*\"メール\" + 0.014*\"タグ\" + 0.013*\"キー\" + 0.012*\"情報\"\n",
      "topic #0 (0.020): 0.103*\"モジュール\" + 0.041*\"CSV\" + 0.028*\"出力\" + 0.020*\"信号\" + 0.019*\"入力\" + 0.018*\"ダウンロード\" + 0.018*\"エクセル\" + 0.016*\"リ\" + 0.015*\"入出力\" + 0.014*\"表\"\n",
      "topic #34 (0.020): 0.016*\"CSS\" + 0.013*\"ライブラリ\" + 0.012*\"スタイル\" + 0.011*\"JS\" + 0.008*\"リスト\" + 0.008*\"graphql\" + 0.007*\"FRAMeWORK\" + 0.007*\"使える\" + 0.007*\"持つ\" + 0.007*\"デバッグ\"\n",
      "topic #15 (0.020): 0.026*\"プロジェクト\" + 0.017*\"ビルド\" + 0.016*\"開発\" + 0.014*\"アプリ\" + 0.012*\"バージョン\" + 0.011*\"起動\" + 0.011*\"アプリケーション\" + 0.009*\"選択\" + 0.009*\"windows\" + 0.009*\"開く\"\n",
      "topic diff=0.353918, rho=0.310161\n",
      "-7.521 per-word bound, 183.7 perplexity estimate based on a held-out corpus of 790 documents with 105477 words\n",
      "PROGRESS: pass 8, at document #2790/2790\n",
      "merging changes from 790 documents into a model of 2790 documents\n",
      "topic #47 (0.020): 0.037*\"実装\" + 0.014*\"画面\" + 0.010*\"座標\" + 0.008*\"入力\" + 0.007*\"ボタン\" + 0.007*\"コントローラ\" + 0.007*\"地図\" + 0.006*\"アプリ\" + 0.006*\"画像\" + 0.006*\"簡単\"\n",
      "topic #43 (0.020): 0.076*\"計算\" + 0.018*\"プログラム\" + 0.017*\"GPU\" + 0.016*\"関数\" + 0.014*\"求める\" + 0.012*\"数値\" + 0.011*\"値\" + 0.011*\"考える\" + 0.011*\"数字\" + 0.011*\"内部\"\n",
      "topic #45 (0.020): 0.046*\"API\" + 0.023*\"認証\" + 0.018*\"情報\" + 0.013*\"client\" + 0.012*\"実装\" + 0.011*\"画像\" + 0.010*\"ブロック\" + 0.008*\"値\" + 0.007*\"レスポンス\" + 0.007*\"アクセス\"\n",
      "topic #15 (0.020): 0.027*\"プロジェクト\" + 0.017*\"開発\" + 0.016*\"ビルド\" + 0.014*\"アプリ\" + 0.012*\"アプリケーション\" + 0.012*\"バージョン\" + 0.012*\"起動\" + 0.010*\"windows\" + 0.009*\"選択\" + 0.008*\"開く\"\n",
      "topic #44 (0.020): 0.019*\"コンポーネント\" + 0.015*\"実装\" + 0.014*\"エラー\" + 0.011*\"ん\" + 0.011*\"クラス\" + 0.009*\"定義\" + 0.008*\"コメント\" + 0.007*\"Perl\" + 0.007*\"登録\" + 0.007*\"出る\"\n",
      "topic diff=0.316074, rho=0.310161\n",
      "PROGRESS: pass 9, at document #2000/2790\n",
      "merging changes from 2000 documents into a model of 2790 documents\n",
      "topic #24 (0.020): 0.043*\"文字列\" + 0.032*\"文字\" + 0.017*\"()\" + 0.016*\"HTML\" + 0.015*\"関数\" + 0.014*\"生成\" + 0.009*\"変換\" + 0.009*\"部分\" + 0.009*\"正規表現\" + 0.009*\"変数\"\n",
      "topic #46 (0.020): 0.054*\"タスク\" + 0.032*\"gradle\" + 0.022*\"削除\" + 0.017*\"Folder\" + 0.016*\"定義\" + 0.015*\"zip\" + 0.013*\"スクリプト\" + 0.013*\"exec\" + 0.013*\"コピー\" + 0.011*\"説明\"\n",
      "topic #48 (0.020): 0.025*\"開く\" + 0.020*\"移動\" + 0.018*\"選択\" + 0.016*\"キー\" + 0.016*\"クリック\" + 0.015*\"起動\" + 0.013*\"パッケージ\" + 0.011*\"操作\" + 0.011*\"一覧\" + 0.010*\"ディレクトリ\"\n",
      "topic #42 (0.020): 0.078*\"クラス\" + 0.025*\"依存\" + 0.019*\"抽象\" + 0.017*\"デプロイ\" + 0.014*\"機能\" + 0.013*\"deploy\" + 0.012*\"実装\" + 0.012*\"継承\" + 0.010*\"保存\" + 0.009*\"定義\"\n",
      "topic #2 (0.020): 0.072*\"Re・Act\" + 0.043*\"angular\" + 0.042*\"native\" + 0.036*\"THREAD\" + 0.018*\"SAM\" + 0.017*\"サンプル\" + 0.016*\"redux\" + 0.016*\"アプリ\" + 0.016*\"component\" + 0.014*\"iOS\"\n",
      "topic diff=0.277277, rho=0.296239\n",
      "-7.501 per-word bound, 181.2 perplexity estimate based on a held-out corpus of 790 documents with 105477 words\n",
      "PROGRESS: pass 9, at document #2790/2790\n",
      "merging changes from 790 documents into a model of 2790 documents\n",
      "topic #41 (0.020): 0.038*\"関数\" + 0.015*\"値\" + 0.014*\"リクエスト\" + 0.011*\"定義\" + 0.010*\"変数\" + 0.010*\"JavaScript\" + 0.009*\"代入\" + 0.009*\"スクリプト\" + 0.008*\"返す\" + 0.008*\"記述\"\n",
      "topic #22 (0.020): 0.146*\"テスト\" + 0.015*\"自動\" + 0.014*\"実装\" + 0.014*\"メソッド\" + 0.012*\"対象\" + 0.011*\"生成\" + 0.010*\"クラス\" + 0.009*\"CI\" + 0.009*\"Clova\" + 0.008*\"定義\"\n",
      "topic #42 (0.020): 0.074*\"クラス\" + 0.026*\"依存\" + 0.016*\"デプロイ\" + 0.015*\"抽象\" + 0.013*\"deploy\" + 0.013*\"機能\" + 0.012*\"実装\" + 0.010*\"継承\" + 0.010*\"deployment\" + 0.010*\"保存\"\n",
      "topic #46 (0.020): 0.057*\"タスク\" + 0.034*\"gradle\" + 0.019*\"Folder\" + 0.018*\"定義\" + 0.018*\"削除\" + 0.016*\"zip\" + 0.015*\"exec\" + 0.014*\"スクリプト\" + 0.013*\"コピー\" + 0.012*\"説明\"\n",
      "topic #35 (0.020): 0.055*\"Qiita\" + 0.018*\"動画\" + 0.018*\"ネスト\" + 0.018*\"STEP\" + 0.017*\"patch\" + 0.016*\"git\" + 0.015*\"YouTube\" + 0.015*\"URL\" + 0.013*\"バッチファイル\" + 0.013*\"紹介\"\n",
      "topic diff=0.251410, rho=0.296239\n"
     ]
    }
   ],
   "source": [
    "lda = models.ldamodel.LdaModel(corpus=corpus, id2word=d, num_topics=50, passes=10)"
   ]
  },
  {
   "cell_type": "code",
   "execution_count": 28,
   "metadata": {},
   "outputs": [
    {
     "name": "stdout",
     "output_type": "stream",
     "text": [
      "N:  42112\n"
     ]
    },
    {
     "name": "stderr",
     "output_type": "stream",
     "text": [
      "-10.845 per-word bound, 1839.6 perplexity estimate based on a held-out corpus of 279 documents with 42112 words\n"
     ]
    },
    {
     "name": "stdout",
     "output_type": "stream",
     "text": [
      "perplexity: 1839.6103603724669\n"
     ]
    }
   ],
   "source": [
    "N = sum(count for doc in test_corpus for id, count in doc)\n",
    "print(\"N: \",N)\n",
    "\n",
    "perplexity = np.exp2(-lda.log_perplexity(test_corpus))\n",
    "print(\"perplexity:\", perplexity)"
   ]
  },
  {
   "cell_type": "markdown",
   "metadata": {},
   "source": [
    "20 っこのトピックを表示してみる"
   ]
  },
  {
   "cell_type": "code",
   "execution_count": 29,
   "metadata": {},
   "outputs": [
    {
     "name": "stdout",
     "output_type": "stream",
     "text": [
      "Topic #  0\n",
      "モジュール: 0.11059997230768204\n",
      "CSV: 0.043365977704524994\n",
      "出力: 0.02912191115319729\n",
      "エクセル: 0.02114671841263771\n",
      "ダウンロード: 0.01827458292245865\n",
      "入力: 0.018209226429462433\n",
      "信号: 0.01673273555934429\n",
      "EXCEL: 0.013431021012365818\n",
      "スクリプト: 0.013326830230653286\n",
      "入出力: 0.012866916134953499\n",
      "\n",
      "\n",
      "Topic #  1\n",
      "モデル: 0.019530732184648514\n",
      "解析: 0.01201239787042141\n",
      "定義: 0.010616951622068882\n",
      "関数: 0.010229391045868397\n",
      "VIEW: 0.008985454216599464\n",
      "分析: 0.008905107155442238\n",
      "考える: 0.008560089394450188\n",
      "良い: 0.008244260214269161\n",
      "情報: 0.007540079765021801\n",
      "言う: 0.006542948540300131\n",
      "\n",
      "\n",
      "Topic #  2\n",
      "Re・Act: 0.07579191029071808\n",
      "angular: 0.04981851950287819\n",
      "native: 0.03881143033504486\n",
      "THREAD: 0.0303866658359766\n",
      "SAM: 0.022575009614229202\n",
      "アプリ: 0.01740042306482792\n",
      "サンプル: 0.016208035871386528\n",
      "redux: 0.0161623302847147\n",
      "コンポーネント: 0.015436164103448391\n",
      "JavaScript: 0.014651309698820114\n",
      "\n",
      "\n",
      "Topic #  3\n",
      "温度: 0.04743185639381409\n",
      "frac: 0.04589875787496567\n",
      "case: 0.033589571714401245\n",
      "partial: 0.03280976042151451\n",
      "定義: 0.03016696497797966\n",
      "int: 0.02486519142985344\n",
      "関数: 0.02305624820291996\n",
      "量: 0.022308947518467903\n",
      "一致: 0.020917430520057678\n",
      "消去: 0.02081962861120701\n",
      "\n",
      "\n",
      "Topic #  4\n",
      "出力: 0.028276966884732246\n",
      "定義: 0.01403904426842928\n",
      "引数: 0.011552038602530956\n",
      "渡す: 0.011542421765625477\n",
      "くれる: 0.0109279565513134\n",
      "言語: 0.010195373557507992\n",
      "記述: 0.009658120572566986\n",
      "良い: 0.008640352636575699\n",
      "ん: 0.008033470250666142\n",
      "関数: 0.007946304976940155\n",
      "\n",
      "\n",
      "Topic #  5\n",
      "docker: 0.08913909643888474\n",
      "コンテナ: 0.05333372578024864\n",
      "イメージ: 0.04601272940635681\n",
      "起動: 0.023053284734487534\n",
      "ホスト: 0.014354961924254894\n",
      "dockerfile: 0.013047445565462112\n",
      "OS: 0.01295038778334856\n",
      "IMAGE: 0.012902263551950455\n",
      "仮想マシン: 0.01233062893152237\n",
      "container: 0.009995171800255775\n",
      "\n",
      "\n",
      "Topic #  6\n",
      "エラー: 0.02712245285511017\n",
      "画面: 0.01888830028474331\n",
      "入力: 0.01744094118475914\n",
      "ボタン: 0.014717048965394497\n",
      "パスワード: 0.013310989364981651\n",
      "クリック: 0.010793374851346016\n",
      "選択: 0.010130926966667175\n",
      "GitHub: 0.01009364053606987\n",
      "出る: 0.008976614102721214\n",
      "アプリ: 0.008608385920524597\n",
      "\n",
      "\n",
      "Topic #  7\n",
      "エントリ: 0.03201444074511528\n",
      "デフォルト: 0.02155028097331524\n",
      "URL: 0.01722252368927002\n",
      "数値: 0.012172308750450611\n",
      "値: 0.011077151633799076\n",
      "定義: 0.010601180605590343\n",
      "返す: 0.010543335229158401\n",
      "id: 0.010418310761451721\n",
      "文字列: 0.01033496018499136\n",
      "LINE: 0.010215496644377708\n",
      "\n",
      "\n",
      "Topic #  8\n",
      "起動: 0.019322922453284264\n",
      "手順: 0.016992319375276566\n",
      "ディレクトリ: 0.016315504908561707\n",
      "バージョン: 0.015589792281389236\n",
      "npm: 0.012054316699504852\n",
      "パッケージ: 0.011987071484327316\n",
      "Ubuntu: 0.011359808966517448\n",
      "windows: 0.011098641902208328\n",
      "PHP: 0.010356029495596886\n",
      "構築: 0.009879984892904758\n",
      "\n",
      "\n",
      "Topic #  9\n",
      "TO: 0.08649124205112457\n",
      "AND: 0.046769946813583374\n",
      "IS: 0.04587138071656227\n",
      "YOU: 0.035181302577257156\n",
      "ON: 0.01762843132019043\n",
      "WITH: 0.0161905474960804\n",
      "set: 0.014700124971568584\n",
      "It: 0.013771353289484978\n",
      "BY: 0.013010208494961262\n",
      "WILL: 0.011451959609985352\n",
      "\n",
      "\n",
      "Topic #  10\n",
      "プログラム: 0.037059783935546875\n",
      "SLACK: 0.03388464078307152\n",
      "通知: 0.023966103792190552\n",
      "アセンブラ: 0.022867031395435333\n",
      "cpu: 0.0208112932741642\n",
      "実装: 0.013091927394270897\n",
      "チーム: 0.012214492075145245\n",
      "カスタム: 0.012148984707891941\n",
      "記述: 0.011933116242289543\n",
      "関数: 0.011564276181161404\n",
      "\n",
      "\n",
      "Topic #  11\n",
      "状態: 0.05120858550071716\n",
      "関数: 0.03509306535124779\n",
      "価値: 0.028957894071936607\n",
      "行動: 0.0254838727414608\n",
      "PI: 0.023500140756368637\n",
      "グラフ: 0.021289048716425896\n",
      "報酬: 0.017129413783550262\n",
      "エージェント: 0.016699282452464104\n",
      "方策: 0.015059794299304485\n",
      "確率: 0.013578500598669052\n",
      "\n",
      "\n",
      "Topic #  12\n",
      "項目: 0.01862558163702488\n",
      "画面: 0.017763711512088776\n",
      "ユーザ: 0.017023371532559395\n",
      "メール: 0.016592491418123245\n",
      "更新: 0.01581132970750332\n",
      "id: 0.014219110831618309\n",
      "タグ: 0.013821650296449661\n",
      "キー: 0.013171317987143993\n",
      "ページ: 0.012925486080348492\n",
      "情報: 0.012814602814614773\n",
      "\n",
      "\n",
      "Topic #  13\n",
      "セル: 0.05468627065420151\n",
      "暗号化: 0.028823640197515488\n",
      "カテゴリ: 0.02796098403632641\n",
      "暗号: 0.024546615779399872\n",
      "シート: 0.020081166177988052\n",
      "粒度: 0.01856389082968235\n",
      "値: 0.016720646992325783\n",
      "運動: 0.015641648322343826\n",
      "復号: 0.013373412191867828\n",
      "観察: 0.01329892873764038\n",
      "\n",
      "\n",
      "Topic #  14\n",
      "学習: 0.05322174355387688\n",
      "モデル: 0.03885819390416145\n",
      "分類: 0.023642143234610558\n",
      "特徴: 0.013736624270677567\n",
      "単語: 0.012018181383609772\n",
      "予測: 0.011714574880897999\n",
      "機械学習: 0.011231032200157642\n",
      "データセット: 0.010771949775516987\n",
      "出力: 0.010594366118311882\n",
      "訓練: 0.010500449687242508\n",
      "\n",
      "\n",
      "Topic #  15\n",
      "プロジェクト: 0.027354760095477104\n",
      "開発: 0.016991104930639267\n",
      "ビルド: 0.01626531593501568\n",
      "アプリ: 0.014851505868136883\n",
      "アプリケーション: 0.012271258048713207\n",
      "バージョン: 0.011845286935567856\n",
      "起動: 0.01173265092074871\n",
      "windows: 0.010381207801401615\n",
      "選択: 0.00926934089511633\n",
      "開く: 0.008409693837165833\n",
      "\n",
      "\n",
      "Topic #  16\n",
      "問題: 0.04228139668703079\n",
      "特徴: 0.026259668171405792\n",
      "キャッシュ: 0.023019982501864433\n",
      "有効: 0.018604731187224388\n",
      "出来る: 0.018217168748378754\n",
      "入力: 0.013418948277831078\n",
      "期限: 0.012605139054358006\n",
      "パフォーマンス: 0.012423993088304996\n",
      "プログラム: 0.01176635455340147\n",
      "比較: 0.011639983393251896\n",
      "\n",
      "\n",
      "Topic #  17\n",
      "要素: 0.12338065356016159\n",
      "配列: 0.06748025119304657\n",
      "インデックス: 0.031710583716630936\n",
      "DB2: 0.024073462933301926\n",
      "幅: 0.021461866796016693\n",
      "width: 0.017089687287807465\n",
      "疎い: 0.016751058399677277\n",
      "ジョブ: 0.015527027659118176\n",
      "サイズ: 0.014836257323622704\n",
      "高さ: 0.01437020767480135\n",
      "\n",
      "\n",
      "Topic #  18\n",
      "画像: 0.10609238594770432\n",
      "検出: 0.02428443729877472\n",
      "検知: 0.016340084373950958\n",
      "生成: 0.015008294954895973\n",
      "関数: 0.01374690793454647\n",
      "lambda: 0.013339735567569733\n",
      "顔: 0.013125731609761715\n",
      "圧縮: 0.01006945502012968\n",
      "Alexa: 0.009914570488035679\n",
      "スキル: 0.009394512511789799\n",
      "\n",
      "\n",
      "Topic #  19\n",
      "列挙: 0.02185368724167347\n",
      "クエリ: 0.019820863381028175\n",
      "デフォ: 0.019734371453523636\n",
      "JA: 0.015061176382005215\n",
      "Elasticsearch: 0.014968070201575756\n",
      "chrome: 0.014840494841337204\n",
      "java: 0.014711660332977772\n",
      "selenium: 0.013504331931471825\n",
      "Edition: 0.012640796601772308\n",
      "サイズ: 0.012054665014147758\n",
      "\n",
      "\n"
     ]
    }
   ],
   "source": [
    "def get_topic_words(topic_id):\n",
    "    for t in lda.get_topic_terms(topic_id):\n",
    "        print(\"{}: {}\".format(d[t[0]], t[1]))\n",
    "        \n",
    "        \n",
    "for t in range(20):\n",
    "    print(\"Topic # \",t)\n",
    "    get_topic_words(t)\n",
    "    print(\"\\n\")"
   ]
  },
  {
   "cell_type": "code",
   "execution_count": 30,
   "metadata": {},
   "outputs": [
    {
     "name": "stdout",
     "output_type": "stream",
     "text": [
      "4: 0.47234076261520386\n",
      "41: 0.13297370076179504\n",
      "22: 0.1090388149023056\n",
      "31: 0.08123576641082764\n",
      "45: 0.07855966687202454\n",
      "48: 0.05498792976140976\n",
      "12: 0.01990543305873871\n",
      "24: 0.019325951114296913\n",
      "46: 0.015223784372210503\n",
      "37: 0.01134180836379528\n"
     ]
    }
   ],
   "source": [
    "topics = sorted(lda.get_document_topics(corpus[0]), key=lambda t:t[1], reverse=True)\n",
    "for t in topics[:10]:\n",
    "    print(\"{}: {}\".format(t[0], t[1]))"
   ]
  },
  {
   "cell_type": "code",
   "execution_count": 31,
   "metadata": {},
   "outputs": [
    {
     "name": "stdout",
     "output_type": "stream",
     "text": [
      "Topic #  4\n",
      "出力: 0.028276966884732246\n",
      "定義: 0.01403904426842928\n",
      "引数: 0.011552038602530956\n",
      "渡す: 0.011542421765625477\n",
      "くれる: 0.0109279565513134\n",
      "言語: 0.010195373557507992\n",
      "記述: 0.009658120572566986\n",
      "良い: 0.008640352636575699\n",
      "ん: 0.008033470250666142\n",
      "関数: 0.007946304976940155\n",
      "\n",
      "\n",
      "Topic #  41\n",
      "関数: 0.0382821150124073\n",
      "値: 0.014656711369752884\n",
      "リクエスト: 0.014092267490923405\n",
      "定義: 0.011392643675208092\n",
      "変数: 0.009932107292115688\n",
      "JavaScript: 0.009777076542377472\n",
      "代入: 0.009098599664866924\n",
      "スクリプト: 0.008686017245054245\n",
      "返す: 0.00845917034894228\n",
      "記述: 0.007835714146494865\n",
      "\n",
      "\n",
      "Topic #  22\n",
      "テスト: 0.14645443856716156\n",
      "自動: 0.01541009359061718\n",
      "実装: 0.014386479742825031\n",
      "メソッド: 0.013915706425905228\n",
      "対象: 0.011809773743152618\n",
      "生成: 0.01062107179313898\n",
      "クラス: 0.009682255797088146\n",
      "CI: 0.00904933176934719\n",
      "Clova: 0.008943438529968262\n",
      "定義: 0.00805339403450489\n",
      "\n",
      "\n",
      "Topic #  31\n",
      "python: 0.13295336067676544\n",
      "TensorFlow: 0.02631799504160881\n",
      "プラグイン: 0.02288876101374626\n",
      "JSON: 0.0214704442769289\n",
      "pyenv: 0.02021012455224991\n",
      "py: 0.017710035666823387\n",
      "バージョン: 0.015101728960871696\n",
      "導入: 0.014967246912419796\n",
      "LIB: 0.01488443836569786\n",
      "pip: 0.009997496381402016\n",
      "\n",
      "\n",
      "Topic #  45\n",
      "API: 0.047589171677827835\n",
      "認証: 0.023878542706370354\n",
      "情報: 0.017938094213604927\n",
      "client: 0.01351426262408495\n",
      "実装: 0.011727318167686462\n",
      "ブロック: 0.010044964030385017\n",
      "画像: 0.009379437193274498\n",
      "値: 0.007996181026101112\n",
      "アクセス: 0.007475939113646746\n",
      "レスポンス: 0.00726819084957242\n",
      "\n",
      "\n",
      "Topic #  48\n",
      "開く: 0.02619554102420807\n",
      "移動: 0.02121930755674839\n",
      "選択: 0.01886535808444023\n",
      "キー: 0.015735577791929245\n",
      "クリック: 0.014887208119034767\n",
      "起動: 0.013432873412966728\n",
      "パッケージ: 0.012894685380160809\n",
      "操作: 0.011173094622790813\n",
      "ディレクトリ: 0.01067606545984745\n",
      "一覧: 0.010241121985018253\n",
      "\n",
      "\n",
      "Topic #  12\n",
      "項目: 0.01862558163702488\n",
      "画面: 0.017763711512088776\n",
      "ユーザ: 0.017023371532559395\n",
      "メール: 0.016592491418123245\n",
      "更新: 0.01581132970750332\n",
      "id: 0.014219110831618309\n",
      "タグ: 0.013821650296449661\n",
      "キー: 0.013171317987143993\n",
      "ページ: 0.012925486080348492\n",
      "情報: 0.012814602814614773\n",
      "\n",
      "\n",
      "Topic #  24\n",
      "文字列: 0.04045584425330162\n",
      "文字: 0.03491839021444321\n",
      "(): 0.01721085049211979\n",
      "HTML: 0.016315337270498276\n",
      "関数: 0.014194292947649956\n",
      "生成: 0.013940605334937572\n",
      "変換: 0.009903228841722012\n",
      "正規表現: 0.009566091001033783\n",
      "部分: 0.008925964124500751\n",
      "変数: 0.008760089986026287\n",
      "\n",
      "\n",
      "Topic #  46\n",
      "タスク: 0.05713440105319023\n",
      "gradle: 0.03385690972208977\n",
      "Folder: 0.019076034426689148\n",
      "定義: 0.018492205068469048\n",
      "削除: 0.018095582723617554\n",
      "zip: 0.01627126894891262\n",
      "exec: 0.015492169186472893\n",
      "スクリプト: 0.01435886975377798\n",
      "コピー: 0.013256538659334183\n",
      "説明: 0.011734234169125557\n",
      "\n",
      "\n",
      "Topic #  37\n",
      "ディレクトリ: 0.02505671977996826\n",
      "ファイル名: 0.013703879900276661\n",
      "リスト: 0.009198306128382683\n",
      "保存: 0.008457420393824577\n",
      "引数: 0.008291959762573242\n",
      "パス: 0.008256681263446808\n",
      "再生: 0.0077817183919250965\n",
      "含む: 0.007632989436388016\n",
      "変換: 0.007230471819639206\n",
      "(): 0.007036486640572548\n",
      "\n",
      "\n"
     ]
    }
   ],
   "source": [
    "for t in topics[:10]:\n",
    "    print(\"Topic # \",t[0])\n",
    "    get_topic_words(t[0])\n",
    "    print(\"\\n\")"
   ]
  },
  {
   "cell_type": "code",
   "execution_count": 32,
   "metadata": {},
   "outputs": [
    {
     "data": {
      "text/plain": [
       "'はじめには、モックのサービスを作成して、実際にシナリオテストを実施してみました。今回は、テストの幅を広げるために、Karateで、どのようにデータの定義をするのかを確認してみます。テスト実施時に、リクエストの内容を指定したり、レスポンスの内容を確認したりするために、どのようにデータを定義するのか、ということになります。データの指定方法変数の指定まずは、基本的な定義として、変数での指定をしてみます。が、変数の定義です。 は、テスト実行時に、レポートに変数の内容を出力してくれます。 は、値の確認です。実行したときのレポートの内容は、以下のような感じです。問題なく、テストが通っていますね。当然ながら、日本語も問題なく利用できます。JSON形式のデータの指定次は、JSONデータの指定方法について確認します。REST-APIのテストに向けては、この辺りの使い勝手は重要ですね。基本的な指定の仕方として、マルチラインでの指定です。 で囲むことによって、マルチラインでのデータの指定ができています。先程指定した  のデータの一部を変更しています。コマンドを利用することで、データを変更できます。今度は、テーブル形式でのJSONデータの指定です。 コマンドを指定して定義しています。生のJSONデータよりも、こちらの方が見やすいですね。ただ、tableの場合、ネストされているようなJSONは定義できません。ネストされたJSONデータを定義したい場合は、コマンドを利用することで可能です。こちらも、テーブル形式に近い内容ですが、のときと比べて、行と列の指定が入れ替わっていることに注意してください。テストの実行結果は、以下のようになります。指定したデータの内容も確認できて、分かりやすいです。パラメータの置換上記で、コマンドを利用した変数の値の変換を実施しましたが、指定した変数の一部を置き換えるようなこと（例えば、文字列の一部分を変更した場合など）はできません。そのような置換としては、別の方法があります。コマンドを利用すると、予め置換変数を指定しておき、それを指定した値で置換するようなことが可能です。デフォルトの変数は、 という形式です。この場合、` のようなかたちで、変数の一部を置換できます。置換パラメータは、形式をカスタマイズすることも可能です。 のように定義して、置換することも可能です。この場合は、` というかたちで置換します。私は、どちらかというと、こちらの方が好みです。置換パラメータを指定する際に、こちらの方がパッと見た目で分かりやすい。さらに、テーブル形式で、複数の置換パラメータを、まとめて置換することもできます。ファイルからの読み込みデータの内容が大きい場合など、featureファイルの中で指定するのは、手間かもしれません。そういう場合には、ファイルを読み込んで、利用することもできます。たった、これだけです。ファイルの読み込みも簡単ですね。ただし、指定したファイルは、Karateを実行する際のクラスパスに含まれている必要があります。まとめKarateのデータの定義方法を確認してみましたが、豊富な指定の仕方があり、また、それぞれほぼコマンドひとつで実現されており、簡単に定義できるのが良いと思っています。テストシナリオを作成する上で、これらが変数などが簡単に指定できるのは、作業が効率的に進められるとお見ます。より、詳しい使い方を調べる場合は、以下の Karate Demo を参照すると良いでしょう。'"
      ]
     },
     "execution_count": 32,
     "metadata": {},
     "output_type": "execute_result"
    }
   ],
   "source": [
    "df_nonna['text'][0]"
   ]
  },
  {
   "cell_type": "code",
   "execution_count": 33,
   "metadata": {},
   "outputs": [
    {
     "name": "stdout",
     "output_type": "stream",
     "text": [
      "[(0, 0.00012665863), (1, 0.00012665863), (2, 0.00012665863), (3, 0.00012665863), (4, 0.4690496), (5, 0.00012665863), (6, 0.00012665863), (7, 0.00012665863), (8, 0.00012665863), (9, 0.00012665863), (10, 0.00012665863), (11, 0.00012665863), (12, 0.00012665863), (13, 0.00012665863), (14, 0.00012665863), (15, 0.00012665863), (16, 0.00012665863), (17, 0.00012665863), (18, 0.00012665863), (19, 0.00012665863), (20, 0.00012665863), (21, 0.00012665863), (22, 0.109085724), (23, 0.00012665863), (24, 0.019816684), (25, 0.00012665863), (26, 0.00012665863), (27, 0.00012665863), (28, 0.00012665863), (29, 0.00012665863), (30, 0.00012665863), (31, 0.0838537), (32, 0.00012665863), (33, 0.00012665863), (34, 0.00012665863), (35, 0.00012665863), (36, 0.00012665863), (37, 0.011350646), (38, 0.00012665863), (39, 0.00012665863), (40, 0.00012665863), (41, 0.13744669), (42, 0.00012665863), (43, 0.00012665863), (44, 0.00012665863), (45, 0.079688594), (46, 0.015319362), (47, 0.00012665863), (48, 0.052460793), (49, 0.016861832)]\n"
     ]
    }
   ],
   "source": [
    "all_topics = lda.get_document_topics(corpus, minimum_probability=0)\n",
    "# <||\n",
    "# 試しに0番目の文書のトピックを見ましょう。\n",
    "# >|python|\n",
    "print(all_topics[0])"
   ]
  },
  {
   "cell_type": "code",
   "execution_count": 34,
   "metadata": {},
   "outputs": [],
   "source": [
    "with open('doc_lda_tensor.tsv','w') as w:\n",
    "    for doc_topics in all_topics:\n",
    "        for topics in doc_topics:\n",
    "            w.write(str(topics[1])+ \"\\t\")\n",
    "        w.write(\"\\n\")    "
   ]
  },
  {
   "cell_type": "code",
   "execution_count": 35,
   "metadata": {},
   "outputs": [],
   "source": [
    "# meta = [str(a).split(\"/\") for a in articles]\n",
    "with open('doc_lda_metadata.tsv','w') as w:\n",
    "    w.write('Titles\\tGenres\\n')\n",
    "    for m in df_nonna['id']:\n",
    "        w.write(\"%s\\n\" % (m))\n",
    "#     for m in meta:\n",
    "#         w.write(\"%s\\t%s\\n\" % (m[1].split(\"-\")[0], m[1]))"
   ]
  },
  {
   "cell_type": "code",
   "execution_count": 39,
   "metadata": {},
   "outputs": [],
   "source": [
    "tags_str = df_nonna[\"lang\"]\n",
    "\n",
    "lang_s = []\n",
    "for lang in tags_str:\n",
    "#     if(len(lang_s) > 50):\n",
    "#         break\n",
    "    lang_s.append(lang.split(\",\")[0])\n"
   ]
  },
  {
   "cell_type": "code",
   "execution_count": 41,
   "metadata": {},
   "outputs": [],
   "source": [
    "with open('doc_lda_metadata.tsv','w') as w:\n",
    "    w.write('Titles\\tGenres\\n')\n",
    "    for m in lang_s:\n",
    "        w.write(\"%s\\t%s\\n\" % (m, \"none\"))"
   ]
  },
  {
   "cell_type": "code",
   "execution_count": 42,
   "metadata": {},
   "outputs": [
    {
     "data": {
      "text/plain": [
       "2790"
      ]
     },
     "execution_count": 42,
     "metadata": {},
     "output_type": "execute_result"
    }
   ],
   "source": [
    "len(df_nonna)"
   ]
  },
  {
   "cell_type": "code",
   "execution_count": null,
   "metadata": {},
   "outputs": [],
   "source": []
  }
 ],
 "metadata": {
  "kernelspec": {
   "display_name": "Python 3",
   "language": "python",
   "name": "python3"
  },
  "language_info": {
   "codemirror_mode": {
    "name": "ipython",
    "version": 3
   },
   "file_extension": ".py",
   "mimetype": "text/x-python",
   "name": "python",
   "nbconvert_exporter": "python",
   "pygments_lexer": "ipython3",
   "version": "3.7.4"
  }
 },
 "nbformat": 4,
 "nbformat_minor": 2
}
