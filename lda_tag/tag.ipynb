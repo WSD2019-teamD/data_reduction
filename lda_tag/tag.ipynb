{
 "cells": [
  {
   "cell_type": "markdown",
   "metadata": {},
   "source": [
    "tagを整理するコード\n"
   ]
  },
  {
   "cell_type": "code",
   "execution_count": 2,
   "metadata": {},
   "outputs": [],
   "source": [
    "from urllib import request \n",
    "import logging\n",
    "from pathlib import Path\n",
    "import numpy as np\n",
    "import re\n",
    "import MeCab\n",
    "import random\n",
    "from gensim import corpora, models\n",
    "import pandas as pd\n",
    "from tqdm import tqdm"
   ]
  },
  {
   "cell_type": "code",
   "execution_count": 3,
   "metadata": {},
   "outputs": [],
   "source": [
    "df_content = pd.read_csv('2019-01-01-content.csv')\n",
    "df_content['text'] = df_content['text'].replace(np.nan, \"\", regex=True)\n",
    "df_content['lang'] = df_content['lang'].replace(np.nan, \"\", regex=True)"
   ]
  },
  {
   "cell_type": "code",
   "execution_count": 4,
   "metadata": {},
   "outputs": [
    {
     "data": {
      "text/html": [
       "<div>\n",
       "<style scoped>\n",
       "    .dataframe tbody tr th:only-of-type {\n",
       "        vertical-align: middle;\n",
       "    }\n",
       "\n",
       "    .dataframe tbody tr th {\n",
       "        vertical-align: top;\n",
       "    }\n",
       "\n",
       "    .dataframe thead th {\n",
       "        text-align: right;\n",
       "    }\n",
       "</style>\n",
       "<table border=\"1\" class=\"dataframe\">\n",
       "  <thead>\n",
       "    <tr style=\"text-align: right;\">\n",
       "      <th></th>\n",
       "      <th>Unnamed: 0</th>\n",
       "      <th>id</th>\n",
       "      <th>text</th>\n",
       "      <th>lang</th>\n",
       "      <th>article_id</th>\n",
       "      <th>likes_count</th>\n",
       "      <th>tags_str</th>\n",
       "      <th>title</th>\n",
       "      <th>url</th>\n",
       "    </tr>\n",
       "  </thead>\n",
       "  <tbody>\n",
       "    <tr>\n",
       "      <th>0</th>\n",
       "      <td>0</td>\n",
       "      <td>469421</td>\n",
       "      <td>Chicken Schemeがファイルパス関係でどう動作するか確認したかったんだけど、Win...</td>\n",
       "      <td></td>\n",
       "      <td>a0ae89bb2ff08c50d4ec</td>\n",
       "      <td>0.0</td>\n",
       "      <td>C,Mac,MacOSX,wine,MinGW</td>\n",
       "      <td>Mac上でWindowsのコマンドラインアプリをビルドする</td>\n",
       "      <td>https://qiita.com/ossan-buhibuhi/items/a0ae89b...</td>\n",
       "    </tr>\n",
       "    <tr>\n",
       "      <th>1</th>\n",
       "      <td>1</td>\n",
       "      <td>469420</td>\n",
       "      <td>自分が試したいJSライブラリをメモ（2019）オーディオスプライトによる制御可能 &gt; オーデ...</td>\n",
       "      <td>text,text,text,text,text,text,text,text</td>\n",
       "      <td>298d3bf877b73ce50612</td>\n",
       "      <td>3.0</td>\n",
       "      <td>JavaScript</td>\n",
       "      <td>Webアプリ開発を試したいJSライブラリ</td>\n",
       "      <td>https://qiita.com/giogiokuma/items/298d3bf877b...</td>\n",
       "    </tr>\n",
       "    <tr>\n",
       "      <th>2</th>\n",
       "      <td>2</td>\n",
       "      <td>469419</td>\n",
       "      <td>エンジニアランキングvQiitaのcontributions値から,日本でどのくらいのエンジ...</td>\n",
       "      <td></td>\n",
       "      <td>2bad5f7dda7c35afc9fa</td>\n",
       "      <td>0.0</td>\n",
       "      <td>Qiita,Twitter</td>\n",
       "      <td>Qiitaで自分のContributinランキングが分かる最強システムの秘密とは‥？ RT ...</td>\n",
       "      <td>https://qiita.com/YumaInaura/items/2bad5f7dda7...</td>\n",
       "    </tr>\n",
       "  </tbody>\n",
       "</table>\n",
       "</div>"
      ],
      "text/plain": [
       "   Unnamed: 0      id                                               text  \\\n",
       "0           0  469421  Chicken Schemeがファイルパス関係でどう動作するか確認したかったんだけど、Win...   \n",
       "1           1  469420  自分が試したいJSライブラリをメモ（2019）オーディオスプライトによる制御可能 > オーデ...   \n",
       "2           2  469419  エンジニアランキングvQiitaのcontributions値から,日本でどのくらいのエンジ...   \n",
       "\n",
       "                                      lang            article_id  likes_count  \\\n",
       "0                                           a0ae89bb2ff08c50d4ec          0.0   \n",
       "1  text,text,text,text,text,text,text,text  298d3bf877b73ce50612          3.0   \n",
       "2                                           2bad5f7dda7c35afc9fa          0.0   \n",
       "\n",
       "                  tags_str                                              title  \\\n",
       "0  C,Mac,MacOSX,wine,MinGW                      Mac上でWindowsのコマンドラインアプリをビルドする   \n",
       "1               JavaScript                               Webアプリ開発を試したいJSライブラリ   \n",
       "2            Qiita,Twitter  Qiitaで自分のContributinランキングが分かる最強システムの秘密とは‥？ RT ...   \n",
       "\n",
       "                                                 url  \n",
       "0  https://qiita.com/ossan-buhibuhi/items/a0ae89b...  \n",
       "1  https://qiita.com/giogiokuma/items/298d3bf877b...  \n",
       "2  https://qiita.com/YumaInaura/items/2bad5f7dda7...  "
      ]
     },
     "execution_count": 4,
     "metadata": {},
     "output_type": "execute_result"
    }
   ],
   "source": [
    "df_content.head(3)"
   ]
  },
  {
   "cell_type": "code",
   "execution_count": null,
   "metadata": {},
   "outputs": [],
   "source": [
    "%matplotlib inline\n",
    "import numpy as np\n",
    "import matplotlib.pyplot as plt\n",
    "from matplotlib import rcParams\n",
    "from collections import Counter\n",
    "rcParams['font.family'] = 'sans-serif'\n",
    "rcParams['font.sans-serif'] = ['Hiragino Maru Gothic Pro', 'Yu Gothic', 'Meirio', 'Takao', 'IPAexGothic', 'IPAPGothic', 'VL PGothic', 'Noto Sans CJK JP']\n"
   ]
  },
  {
   "cell_type": "code",
   "execution_count": null,
   "metadata": {},
   "outputs": [],
   "source": [
    "frequency = Counter()\n",
    "    \n",
    "for doc_id, sim in s[1:100]:\n",
    "    tags = df_content['tags_str'][doc_id]\n",
    "    frequency.update(tags.split(','))"
   ]
  },
  {
   "cell_type": "code",
   "execution_count": 7,
   "metadata": {},
   "outputs": [
    {
     "data": {
      "image/png": "[encoded data removed]",
      "text/plain": [
       "<Figure size 1440x720 with 1 Axes>"
      ]
     },
     "metadata": {
      "needs_background": "light"
     },
     "output_type": "display_data"
    }
   ],
   "source": [
    "from collections import Counter\n",
    "\n",
    "frequency = Counter()\n",
    "\n",
    "for tag in df_content['tags_str']:\n",
    "#     print(tag.split(','))\n",
    "    frequency.update(tag.split(','))\n",
    "\n",
    "# %matplotlib inline\n",
    "import numpy as np\n",
    "import matplotlib.pyplot as plt\n",
    "from matplotlib import rcParams\n",
    "rcParams['font.family'] = 'sans-serif'\n",
    "rcParams['font.sans-serif'] = ['Hiragino Maru Gothic Pro', 'Yu Gothic', 'Meirio', 'Takao', 'IPAexGothic', 'IPAPGothic', 'VL PGothic', 'Noto Sans CJK JP']\n",
    "\n",
    "# TOP20のグラフ           \n",
    "x = range(20)\n",
    "mc = frequency.most_common(20)              # 頻度TOP20を抽出\n",
    "ch = [ch[0] for ch in mc]           # ひらがなのリスト\n",
    "f = np.array([ch[1] for ch in mc])  # 頻度の数値のリスト\n",
    "\n",
    "\n",
    "fig = plt.figure(figsize=(20, 10))\n",
    "ax = fig.add_subplot(111)\n",
    "\n",
    "ax.bar(x, f)\n",
    "ax.set_xticks(x)\n",
    "ax.set_xticklabels(ch , fontsize=10)  #日本語表示はfontproperties=fp\n",
    "ax.set_title(\"名詞頻度 TOP20\")\n",
    "\n",
    "plt.show()"
   ]
  },
  {
   "cell_type": "code",
   "execution_count": null,
   "metadata": {},
   "outputs": [],
   "source": []
  }
 ],
 "metadata": {
  "kernelspec": {
   "display_name": "Python 3",
   "language": "python",
   "name": "python3"
  },
  "language_info": {
   "codemirror_mode": {
    "name": "ipython",
    "version": 3
   },
   "file_extension": ".py",
   "mimetype": "text/x-python",
   "name": "python",
   "nbconvert_exporter": "python",
   "pygments_lexer": "ipython3",
   "version": "3.7.4"
  }
 },
 "nbformat": 4,
 "nbformat_minor": 2
}
